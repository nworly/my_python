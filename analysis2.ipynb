{
  "nbformat": 4,
  "nbformat_minor": 0,
  "metadata": {
    "kernelspec": {
      "display_name": "Python 3",
      "language": "python",
      "name": "python3"
    },
    "language_info": {
      "codemirror_mode": {
        "name": "ipython",
        "version": 3
      },
      "file_extension": ".py",
      "mimetype": "text/x-python",
      "name": "python",
      "nbconvert_exporter": "python",
      "pygments_lexer": "ipython3",
      "version": "3.7.4"
    },
    "colab": {
      "name": "analysis2.ipynb",
      "provenance": [],
      "collapsed_sections": []
    }
  },
  "cells": [
    {
      "cell_type": "markdown",
      "metadata": {
        "id": "wnYqdmdhfPEm"
      },
      "source": [
        "### Задание 1\n",
        "\n",
        "Заказчик попросил провести анализ частоты запросов к сайту по версии [Яндекс.Метрики](https://yandex.ru/support/metrica/general/glossary.html):"
      ]
    },
    {
      "cell_type": "code",
      "metadata": {
        "id": "WRhmPWLJfPEo",
        "outputId": "1d236aa7-9b6c-412e-e074-60c6b7fd0ca9"
      },
      "source": [
        "import pandas as pd\n",
        "\n",
        "url = \"https://raw.githubusercontent.com/dm-fedorov/pandas_basic/master/data/data_stat/yandex-stat-q.csv\"\n",
        "\n",
        "df = pd.read_csv(url)\n",
        "df.head()"
      ],
      "execution_count": null,
      "outputs": [
        {
          "output_type": "execute_result",
          "data": {
            "text/html": [
              "<div>\n",
              "<style scoped>\n",
              "    .dataframe tbody tr th:only-of-type {\n",
              "        vertical-align: middle;\n",
              "    }\n",
              "\n",
              "    .dataframe tbody tr th {\n",
              "        vertical-align: top;\n",
              "    }\n",
              "\n",
              "    .dataframe thead th {\n",
              "        text-align: right;\n",
              "    }\n",
              "</style>\n",
              "<table border=\"1\" class=\"dataframe\">\n",
              "  <thead>\n",
              "    <tr style=\"text-align: right;\">\n",
              "      <th></th>\n",
              "      <th>Поисковая фраза</th>\n",
              "      <th>Поисковая система</th>\n",
              "      <th>Визиты</th>\n",
              "      <th>Посетители</th>\n",
              "      <th>Отказы</th>\n",
              "      <th>Глубина просмотра</th>\n",
              "      <th>Время на сайте</th>\n",
              "    </tr>\n",
              "  </thead>\n",
              "  <tbody>\n",
              "    <tr>\n",
              "      <td>0</td>\n",
              "      <td>Итого и средние</td>\n",
              "      <td>NaN</td>\n",
              "      <td>72394</td>\n",
              "      <td>57803</td>\n",
              "      <td>0.120328</td>\n",
              "      <td>1.298934</td>\n",
              "      <td>00:01:18</td>\n",
              "    </tr>\n",
              "    <tr>\n",
              "      <td>1</td>\n",
              "      <td>pycode.ru</td>\n",
              "      <td>Яндекс</td>\n",
              "      <td>2068</td>\n",
              "      <td>1225</td>\n",
              "      <td>0.093810</td>\n",
              "      <td>1.674565</td>\n",
              "      <td>00:01:38</td>\n",
              "    </tr>\n",
              "    <tr>\n",
              "      <td>2</td>\n",
              "      <td>холопов алексей васильевич</td>\n",
              "      <td>Яндекс</td>\n",
              "      <td>1240</td>\n",
              "      <td>467</td>\n",
              "      <td>0.082258</td>\n",
              "      <td>1.941129</td>\n",
              "      <td>00:03:53</td>\n",
              "    </tr>\n",
              "    <tr>\n",
              "      <td>3</td>\n",
              "      <td>золотое правило дидактики</td>\n",
              "      <td>Яндекс</td>\n",
              "      <td>778</td>\n",
              "      <td>751</td>\n",
              "      <td>0.082262</td>\n",
              "      <td>1.087404</td>\n",
              "      <td>00:00:41</td>\n",
              "    </tr>\n",
              "    <tr>\n",
              "      <td>4</td>\n",
              "      <td>золотое правило дидактики я.а коменского</td>\n",
              "      <td>Яндекс</td>\n",
              "      <td>743</td>\n",
              "      <td>724</td>\n",
              "      <td>0.068641</td>\n",
              "      <td>1.044415</td>\n",
              "      <td>00:00:31</td>\n",
              "    </tr>\n",
              "  </tbody>\n",
              "</table>\n",
              "</div>"
            ],
            "text/plain": [
              "                            Поисковая фраза Поисковая система  Визиты  \\\n",
              "0                           Итого и средние               NaN   72394   \n",
              "1                                 pycode.ru            Яндекс    2068   \n",
              "2                холопов алексей васильевич            Яндекс    1240   \n",
              "3                 золотое правило дидактики            Яндекс     778   \n",
              "4  золотое правило дидактики я.а коменского            Яндекс     743   \n",
              "\n",
              "   Посетители    Отказы  Глубина просмотра Время на сайте  \n",
              "0       57803  0.120328           1.298934       00:01:18  \n",
              "1        1225  0.093810           1.674565       00:01:38  \n",
              "2         467  0.082258           1.941129       00:03:53  \n",
              "3         751  0.082262           1.087404       00:00:41  \n",
              "4         724  0.068641           1.044415       00:00:31  "
            ]
          },
          "metadata": {
            "tags": []
          },
          "execution_count": 37
        }
      ]
    },
    {
      "cell_type": "markdown",
      "metadata": {
        "id": "3v-p_hJafPEx"
      },
      "source": [
        "**Задача 1.1**: определите статистику встречаемости отдельных слов в поисковых фразах. Это позволит понять тематику данного сайта и настроить показ рекламы.\n",
        "\n",
        "По условию задачи исходный файл с данными модифицировать нельзя."
      ]
    },
    {
      "cell_type": "code",
      "metadata": {
        "id": "qAQWg18YfPEy"
      },
      "source": [
        "import pymorphy2\n",
        "morph = pymorphy2.MorphAnalyzer()"
      ],
      "execution_count": null,
      "outputs": []
    },
    {
      "cell_type": "code",
      "metadata": {
        "id": "NE_5Y2XJfPE4",
        "outputId": "0556ae69-ddb8-4102-b322-e9a964d8796b"
      },
      "source": [
        "morph.parse(df['Поисковая фраза'][3])[0].normal_form"
      ],
      "execution_count": null,
      "outputs": [
        {
          "output_type": "execute_result",
          "data": {
            "text/plain": [
              "'золотое правило дидактика'"
            ]
          },
          "metadata": {
            "tags": []
          },
          "execution_count": 50
        }
      ]
    },
    {
      "cell_type": "code",
      "metadata": {
        "id": "DfWxxdS6fPE-",
        "outputId": "f78e33d8-9a9b-46ec-d4ec-fcde9c283098"
      },
      "source": [
        "df['search'] = df['Поисковая фраза'].apply(lambda x: morph.parse(x)[0].normal_form).str.split(\" \")\n",
        "df.search.head()"
      ],
      "execution_count": null,
      "outputs": [
        {
          "output_type": "execute_result",
          "data": {
            "text/plain": [
              "0                              [итого, и, средний]\n",
              "1                                      [pycode.ru]\n",
              "2                      [холопов, алексей, василий]\n",
              "3                    [золотое, правило, дидактика]\n",
              "4    [золотое, правило, дидактики, я.а, коменский]\n",
              "Name: search, dtype: object"
            ]
          },
          "metadata": {
            "tags": []
          },
          "execution_count": 51
        }
      ]
    },
    {
      "cell_type": "code",
      "metadata": {
        "id": "dLlVAQZBfPFE",
        "outputId": "5d08f892-afd8-4cdc-d72b-009c09ca76e2"
      },
      "source": [
        "lst = []\n",
        "for i, j in enumerate(df.search):\n",
        "    if not i == 0:\n",
        "        for word in j:\n",
        "            lst.append(word)\n",
        "import collections\n",
        "count = collections.Counter(lst)\n",
        "sorted(dict(count), key=count.get, reverse=True)\n",
        "for s in sorted(dict(count), key=count.get, reverse=True):\n",
        "    if len(s) > 3:\n",
        "        print(s, count[s])\n",
        "    elif count[s] < 300:\n",
        "        break"
      ],
      "execution_count": null,
      "outputs": [
        {
          "output_type": "stream",
          "text": [
            "тезисы 3758\n",
            "конференция 2487\n",
            "пример 2246\n",
            "безопасность 2024\n",
            "работа 1816\n",
            "тезис 1766\n",
            "информационной 1741\n",
            "научной 1711\n",
            "конференции 1319\n",
            "правило 1071\n",
            "тезисов 949\n",
            "написать 905\n",
            "золотое 895\n",
            "python 892\n",
            "писать 874\n",
            "отчет 854\n",
            "конференцию 798\n",
            "кейс 780\n",
            "практике 766\n",
            "исследовательской 746\n",
            "коменский 731\n",
            "информационная 716\n",
            "принцип 712\n",
            "безопасности 694\n",
            "примеры 688\n",
            "работе 681\n",
            "практика 669\n",
            "доклад 663\n",
            "дидактики 651\n",
            "образец 633\n",
            "человек 615\n",
            "области 611\n",
            "статья 610\n",
            "дидактика 570\n",
            "научных 566\n",
            "работы 544\n",
            "анализ 530\n",
            "доклада 528\n",
            "какой 507\n",
            "обучения 491\n",
            "научные 484\n",
            "правилом 469\n",
            "образование 451\n",
            "такое 442\n",
            "выступление 440\n",
            "выступления 434\n",
            "статьи 429\n",
            "золотым 413\n",
            "текст 412\n",
            "задание 407\n",
            "холопов 403\n",
            "студент 401\n",
            "сухомлинский 398\n",
            "быть 398\n",
            "можно 396\n",
            "метод 389\n",
            "данных 381\n",
            "информация 379\n",
            "производственной 360\n",
            "написания 360\n",
            "проблемы 343\n",
            "этика 331\n",
            "этый 329\n",
            "скачать 327\n",
            "структура 325\n",
            "тему 318\n",
            "технология 314\n",
            "практики 311\n",
            "правильно 302\n",
            "научная 299\n",
            "сухомлинского 293\n",
            "информационных 291\n",
            "исследование 290\n",
            "студента 290\n"
          ],
          "name": "stdout"
        }
      ]
    },
    {
      "cell_type": "markdown",
      "metadata": {
        "id": "n8mGCApGfPFL"
      },
      "source": [
        "Проведённый анализ показал, что наиболее часто запрашиваемые слова отвечают научной тематике: `тезис`, `конференция`, `исследование`, `пример`, `кейс`, `отчёт`, `образец`, `научный` и тому подобное. Соответственно, нужно настраивать рекламу, которая могла бы заинтересовать научных работников, исследователей и студентов. Например, можно было бы разработать баннеры, описывающие глубокую базу данных и качество источников сайта."
      ]
    },
    {
      "cell_type": "markdown",
      "metadata": {
        "id": "0KvczRmYfPFM"
      },
      "source": [
        "### Задание 2"
      ]
    },
    {
      "cell_type": "markdown",
      "metadata": {
        "id": "iXlTffiEfPFN"
      },
      "source": [
        "Заказчик попросил провести анализ поведения пользователей на сайте по версии [Яндекс.Метрики](https://yandex.ru/support/metrica/general/glossary.html):"
      ]
    },
    {
      "cell_type": "code",
      "metadata": {
        "id": "zDR_cF5NfPFO",
        "outputId": "eba4d9ce-bfe0-4792-98d9-77ca0afd6383"
      },
      "source": [
        "import pandas as pd\n",
        "\n",
        "url = \"https://raw.githubusercontent.com/dm-fedorov/pandas_basic/master/data/data_stat/yandex-stat.csv\"\n",
        "\n",
        "df2 = pd.read_csv(url, \n",
        "                  index_col=['Интервал дат визита'], \n",
        "                  parse_dates=['Интервал дат визита'])\n",
        "df2.head()"
      ],
      "execution_count": null,
      "outputs": [
        {
          "output_type": "execute_result",
          "data": {
            "text/html": [
              "<div>\n",
              "<style scoped>\n",
              "    .dataframe tbody tr th:only-of-type {\n",
              "        vertical-align: middle;\n",
              "    }\n",
              "\n",
              "    .dataframe tbody tr th {\n",
              "        vertical-align: top;\n",
              "    }\n",
              "\n",
              "    .dataframe thead th {\n",
              "        text-align: right;\n",
              "    }\n",
              "</style>\n",
              "<table border=\"1\" class=\"dataframe\">\n",
              "  <thead>\n",
              "    <tr style=\"text-align: right;\">\n",
              "      <th></th>\n",
              "      <th>Визиты</th>\n",
              "      <th>Посетители</th>\n",
              "      <th>Просмотры</th>\n",
              "      <th>Доля новых посетителей</th>\n",
              "      <th>Отказы</th>\n",
              "      <th>Глубина просмотра</th>\n",
              "      <th>Время на сайте</th>\n",
              "    </tr>\n",
              "    <tr>\n",
              "      <th>Интервал дат визита</th>\n",
              "      <th></th>\n",
              "      <th></th>\n",
              "      <th></th>\n",
              "      <th></th>\n",
              "      <th></th>\n",
              "      <th></th>\n",
              "      <th></th>\n",
              "    </tr>\n",
              "  </thead>\n",
              "  <tbody>\n",
              "    <tr>\n",
              "      <td>Итого и средние</td>\n",
              "      <td>328447</td>\n",
              "      <td>235064</td>\n",
              "      <td>472967</td>\n",
              "      <td>0.997486</td>\n",
              "      <td>0.150542</td>\n",
              "      <td>1.440010</td>\n",
              "      <td>00:01:34</td>\n",
              "    </tr>\n",
              "    <tr>\n",
              "      <td>2020-03-08</td>\n",
              "      <td>49</td>\n",
              "      <td>46</td>\n",
              "      <td>55</td>\n",
              "      <td>0.565217</td>\n",
              "      <td>0.244898</td>\n",
              "      <td>1.122449</td>\n",
              "      <td>00:00:52</td>\n",
              "    </tr>\n",
              "    <tr>\n",
              "      <td>2020-03-07</td>\n",
              "      <td>152</td>\n",
              "      <td>137</td>\n",
              "      <td>198</td>\n",
              "      <td>0.846715</td>\n",
              "      <td>0.118421</td>\n",
              "      <td>1.302632</td>\n",
              "      <td>00:01:15</td>\n",
              "    </tr>\n",
              "    <tr>\n",
              "      <td>2020-03-06</td>\n",
              "      <td>172</td>\n",
              "      <td>160</td>\n",
              "      <td>209</td>\n",
              "      <td>0.812500</td>\n",
              "      <td>0.203488</td>\n",
              "      <td>1.215116</td>\n",
              "      <td>00:01:23</td>\n",
              "    </tr>\n",
              "    <tr>\n",
              "      <td>2020-03-05</td>\n",
              "      <td>208</td>\n",
              "      <td>199</td>\n",
              "      <td>266</td>\n",
              "      <td>0.859296</td>\n",
              "      <td>0.125000</td>\n",
              "      <td>1.278846</td>\n",
              "      <td>00:01:07</td>\n",
              "    </tr>\n",
              "  </tbody>\n",
              "</table>\n",
              "</div>"
            ],
            "text/plain": [
              "                     Визиты  Посетители  Просмотры  Доля новых посетителей  \\\n",
              "Интервал дат визита                                                          \n",
              "Итого и средние      328447      235064     472967                0.997486   \n",
              "2020-03-08               49          46         55                0.565217   \n",
              "2020-03-07              152         137        198                0.846715   \n",
              "2020-03-06              172         160        209                0.812500   \n",
              "2020-03-05              208         199        266                0.859296   \n",
              "\n",
              "                       Отказы  Глубина просмотра Время на сайте  \n",
              "Интервал дат визита                                              \n",
              "Итого и средние      0.150542           1.440010       00:01:34  \n",
              "2020-03-08           0.244898           1.122449       00:00:52  \n",
              "2020-03-07           0.118421           1.302632       00:01:15  \n",
              "2020-03-06           0.203488           1.215116       00:01:23  \n",
              "2020-03-05           0.125000           1.278846       00:01:07  "
            ]
          },
          "metadata": {
            "tags": []
          },
          "execution_count": 1
        }
      ]
    },
    {
      "cell_type": "markdown",
      "metadata": {
        "id": "YV8is8OMfPFU"
      },
      "source": [
        "**Задача 2.1**: определите, каким образом менялось поведение пользователей в зависимости от месяца и года. Постройте графики.\n",
        "\n",
        "По условию задачи исходный файл с данными модифицировать нельзя."
      ]
    },
    {
      "cell_type": "code",
      "metadata": {
        "id": "wwjZFK_DfPFV"
      },
      "source": [
        "import pandas as pd\n",
        "import matplotlib.pyplot as plt"
      ],
      "execution_count": null,
      "outputs": []
    },
    {
      "cell_type": "code",
      "metadata": {
        "id": "1KBdy8PbfPFZ"
      },
      "source": [
        "df2.drop(['Итого и средние'], inplace=True)"
      ],
      "execution_count": null,
      "outputs": []
    },
    {
      "cell_type": "code",
      "metadata": {
        "id": "1be2JxN2fPFc"
      },
      "source": [
        "df_visitors = df2.iloc[:, 0:3][::-1]"
      ],
      "execution_count": null,
      "outputs": []
    },
    {
      "cell_type": "code",
      "metadata": {
        "id": "H1LY50eCfPFg",
        "outputId": "d499d9d7-a68d-41c2-d3da-563ba23e3bfd"
      },
      "source": [
        "df_visitors.head()"
      ],
      "execution_count": null,
      "outputs": [
        {
          "output_type": "execute_result",
          "data": {
            "text/html": [
              "<div>\n",
              "<style scoped>\n",
              "    .dataframe tbody tr th:only-of-type {\n",
              "        vertical-align: middle;\n",
              "    }\n",
              "\n",
              "    .dataframe tbody tr th {\n",
              "        vertical-align: top;\n",
              "    }\n",
              "\n",
              "    .dataframe thead th {\n",
              "        text-align: right;\n",
              "    }\n",
              "</style>\n",
              "<table border=\"1\" class=\"dataframe\">\n",
              "  <thead>\n",
              "    <tr style=\"text-align: right;\">\n",
              "      <th></th>\n",
              "      <th>Визиты</th>\n",
              "      <th>Посетители</th>\n",
              "      <th>Просмотры</th>\n",
              "    </tr>\n",
              "    <tr>\n",
              "      <th>Интервал дат визита</th>\n",
              "      <th></th>\n",
              "      <th></th>\n",
              "      <th></th>\n",
              "    </tr>\n",
              "  </thead>\n",
              "  <tbody>\n",
              "    <tr>\n",
              "      <td>2017-03-08</td>\n",
              "      <td>374</td>\n",
              "      <td>306</td>\n",
              "      <td>590</td>\n",
              "    </tr>\n",
              "    <tr>\n",
              "      <td>2017-03-09</td>\n",
              "      <td>594</td>\n",
              "      <td>525</td>\n",
              "      <td>858</td>\n",
              "    </tr>\n",
              "    <tr>\n",
              "      <td>2017-03-10</td>\n",
              "      <td>518</td>\n",
              "      <td>435</td>\n",
              "      <td>746</td>\n",
              "    </tr>\n",
              "    <tr>\n",
              "      <td>2017-03-11</td>\n",
              "      <td>366</td>\n",
              "      <td>303</td>\n",
              "      <td>531</td>\n",
              "    </tr>\n",
              "    <tr>\n",
              "      <td>2017-03-12</td>\n",
              "      <td>573</td>\n",
              "      <td>500</td>\n",
              "      <td>784</td>\n",
              "    </tr>\n",
              "  </tbody>\n",
              "</table>\n",
              "</div>"
            ],
            "text/plain": [
              "                     Визиты  Посетители  Просмотры\n",
              "Интервал дат визита                               \n",
              "2017-03-08              374         306        590\n",
              "2017-03-09              594         525        858\n",
              "2017-03-10              518         435        746\n",
              "2017-03-11              366         303        531\n",
              "2017-03-12              573         500        784"
            ]
          },
          "metadata": {
            "tags": []
          },
          "execution_count": 66
        }
      ]
    },
    {
      "cell_type": "code",
      "metadata": {
        "id": "jFMLdg_DfPFk",
        "outputId": "825142d1-a67f-4df2-f064-4edcfd3a9ab3"
      },
      "source": [
        "fig, axs = plt.subplots(figsize=(15, 6)); \n",
        "df_visitors.plot(ax=axs); \n",
        "axs.set_ylabel(\"Количество пользователей\")"
      ],
      "execution_count": null,
      "outputs": [
        {
          "output_type": "execute_result",
          "data": {
            "text/plain": [
              "Text(0, 0.5, 'Количество пользователей')"
            ]
          },
          "metadata": {
            "tags": []
          },
          "execution_count": 5
        },
        {
          "output_type": "display_data",
          "data": {
            "image/png": "[encoded data removed]",
            "text/plain": [
              "<Figure size 1080x432 with 1 Axes>"
            ]
          },
          "metadata": {
            "tags": [],
            "needs_background": "light"
          }
        }
      ]
    },
    {
      "cell_type": "markdown",
      "metadata": {
        "id": "FSLR9xcRfPFo"
      },
      "source": [
        "На данном графике с небольшим шагом наглядно видно, что на данный момент разброс посещающих сайт пользователей преуменьшился по сравнению с началом периода. Более устойчивое число пользователей сохранилось к его концу, но иногда бывают \"выбросы\", когда на сайт заходит более 800 человек по сравнению с постоянной публикой в количестве 200-400 человек. Такую ситуацию можно объяснить дополнительным размещением рекламы сайта на сторонник ресурсах, вследствие чего увеличился процент заинтересованных лиц.\n",
        "\n",
        "Все показатели двигаются в одном направлении, различие лишь в количестве, что характерно для особенностей группы *Визиты-Посетители-Просмотры*."
      ]
    },
    {
      "cell_type": "code",
      "metadata": {
        "id": "iECTkbE5fPFp",
        "outputId": "160f0685-68cd-4f7f-bbc7-0691cdfcc7b3"
      },
      "source": [
        "import pandas as pd\n",
        "url = \"https://raw.githubusercontent.com/dm-fedorov/pandas_basic/master/data/data_stat/yandex-stat.csv\"\n",
        "df_month = pd.read_csv(url, \n",
        "                  parse_dates=['Интервал дат визита'])\n",
        "df_month.head()"
      ],
      "execution_count": null,
      "outputs": [
        {
          "output_type": "execute_result",
          "data": {
            "text/html": [
              "<div>\n",
              "<style scoped>\n",
              "    .dataframe tbody tr th:only-of-type {\n",
              "        vertical-align: middle;\n",
              "    }\n",
              "\n",
              "    .dataframe tbody tr th {\n",
              "        vertical-align: top;\n",
              "    }\n",
              "\n",
              "    .dataframe thead th {\n",
              "        text-align: right;\n",
              "    }\n",
              "</style>\n",
              "<table border=\"1\" class=\"dataframe\">\n",
              "  <thead>\n",
              "    <tr style=\"text-align: right;\">\n",
              "      <th></th>\n",
              "      <th>Интервал дат визита</th>\n",
              "      <th>Визиты</th>\n",
              "      <th>Посетители</th>\n",
              "      <th>Просмотры</th>\n",
              "      <th>Доля новых посетителей</th>\n",
              "      <th>Отказы</th>\n",
              "      <th>Глубина просмотра</th>\n",
              "      <th>Время на сайте</th>\n",
              "    </tr>\n",
              "  </thead>\n",
              "  <tbody>\n",
              "    <tr>\n",
              "      <td>0</td>\n",
              "      <td>Итого и средние</td>\n",
              "      <td>328447</td>\n",
              "      <td>235064</td>\n",
              "      <td>472967</td>\n",
              "      <td>0.997486</td>\n",
              "      <td>0.150542</td>\n",
              "      <td>1.440010</td>\n",
              "      <td>00:01:34</td>\n",
              "    </tr>\n",
              "    <tr>\n",
              "      <td>1</td>\n",
              "      <td>2020-03-08</td>\n",
              "      <td>49</td>\n",
              "      <td>46</td>\n",
              "      <td>55</td>\n",
              "      <td>0.565217</td>\n",
              "      <td>0.244898</td>\n",
              "      <td>1.122449</td>\n",
              "      <td>00:00:52</td>\n",
              "    </tr>\n",
              "    <tr>\n",
              "      <td>2</td>\n",
              "      <td>2020-03-07</td>\n",
              "      <td>152</td>\n",
              "      <td>137</td>\n",
              "      <td>198</td>\n",
              "      <td>0.846715</td>\n",
              "      <td>0.118421</td>\n",
              "      <td>1.302632</td>\n",
              "      <td>00:01:15</td>\n",
              "    </tr>\n",
              "    <tr>\n",
              "      <td>3</td>\n",
              "      <td>2020-03-06</td>\n",
              "      <td>172</td>\n",
              "      <td>160</td>\n",
              "      <td>209</td>\n",
              "      <td>0.812500</td>\n",
              "      <td>0.203488</td>\n",
              "      <td>1.215116</td>\n",
              "      <td>00:01:23</td>\n",
              "    </tr>\n",
              "    <tr>\n",
              "      <td>4</td>\n",
              "      <td>2020-03-05</td>\n",
              "      <td>208</td>\n",
              "      <td>199</td>\n",
              "      <td>266</td>\n",
              "      <td>0.859296</td>\n",
              "      <td>0.125000</td>\n",
              "      <td>1.278846</td>\n",
              "      <td>00:01:07</td>\n",
              "    </tr>\n",
              "  </tbody>\n",
              "</table>\n",
              "</div>"
            ],
            "text/plain": [
              "  Интервал дат визита  Визиты  Посетители  Просмотры  Доля новых посетителей  \\\n",
              "0     Итого и средние  328447      235064     472967                0.997486   \n",
              "1          2020-03-08      49          46         55                0.565217   \n",
              "2          2020-03-07     152         137        198                0.846715   \n",
              "3          2020-03-06     172         160        209                0.812500   \n",
              "4          2020-03-05     208         199        266                0.859296   \n",
              "\n",
              "     Отказы  Глубина просмотра Время на сайте  \n",
              "0  0.150542           1.440010       00:01:34  \n",
              "1  0.244898           1.122449       00:00:52  \n",
              "2  0.118421           1.302632       00:01:15  \n",
              "3  0.203488           1.215116       00:01:23  \n",
              "4  0.125000           1.278846       00:01:07  "
            ]
          },
          "metadata": {
            "tags": []
          },
          "execution_count": 6
        }
      ]
    },
    {
      "cell_type": "code",
      "metadata": {
        "id": "E3-a6t6lfPFt"
      },
      "source": [
        "df_month.drop([0], inplace=True)"
      ],
      "execution_count": null,
      "outputs": []
    },
    {
      "cell_type": "code",
      "metadata": {
        "id": "r1yyKmO_fPFw"
      },
      "source": [
        "df_month['Интервал дат визита'] = pd.to_datetime(df_month['Интервал дат визита'])\n",
        "df_month['Month'] = df_month['Интервал дат визита'].dt.strftime('%b')\n",
        "df_month['Year'] = df_month['Интервал дат визита'].dt.year\n",
        "df_month = df_month.set_index(['Month','Year']).sum(level=[0,1]).reset_index()"
      ],
      "execution_count": null,
      "outputs": []
    },
    {
      "cell_type": "code",
      "metadata": {
        "id": "GX19LrUBfPF1",
        "outputId": "cdb7984b-9a80-4fc7-e20f-ea6f602f16fb"
      },
      "source": [
        "df_month.head()"
      ],
      "execution_count": null,
      "outputs": [
        {
          "output_type": "execute_result",
          "data": {
            "text/html": [
              "<div>\n",
              "<style scoped>\n",
              "    .dataframe tbody tr th:only-of-type {\n",
              "        vertical-align: middle;\n",
              "    }\n",
              "\n",
              "    .dataframe tbody tr th {\n",
              "        vertical-align: top;\n",
              "    }\n",
              "\n",
              "    .dataframe thead th {\n",
              "        text-align: right;\n",
              "    }\n",
              "</style>\n",
              "<table border=\"1\" class=\"dataframe\">\n",
              "  <thead>\n",
              "    <tr style=\"text-align: right;\">\n",
              "      <th></th>\n",
              "      <th>Month</th>\n",
              "      <th>Year</th>\n",
              "      <th>Визиты</th>\n",
              "      <th>Посетители</th>\n",
              "      <th>Просмотры</th>\n",
              "      <th>Доля новых посетителей</th>\n",
              "      <th>Отказы</th>\n",
              "      <th>Глубина просмотра</th>\n",
              "    </tr>\n",
              "  </thead>\n",
              "  <tbody>\n",
              "    <tr>\n",
              "      <td>0</td>\n",
              "      <td>Mar</td>\n",
              "      <td>2020</td>\n",
              "      <td>1614</td>\n",
              "      <td>1488</td>\n",
              "      <td>2060</td>\n",
              "      <td>6.426150</td>\n",
              "      <td>1.416046</td>\n",
              "      <td>10.082479</td>\n",
              "    </tr>\n",
              "    <tr>\n",
              "      <td>1</td>\n",
              "      <td>Feb</td>\n",
              "      <td>2020</td>\n",
              "      <td>6573</td>\n",
              "      <td>5999</td>\n",
              "      <td>8738</td>\n",
              "      <td>24.873669</td>\n",
              "      <td>4.674628</td>\n",
              "      <td>38.586017</td>\n",
              "    </tr>\n",
              "    <tr>\n",
              "      <td>2</td>\n",
              "      <td>Jan</td>\n",
              "      <td>2020</td>\n",
              "      <td>9187</td>\n",
              "      <td>8663</td>\n",
              "      <td>11231</td>\n",
              "      <td>27.189448</td>\n",
              "      <td>4.304140</td>\n",
              "      <td>39.826698</td>\n",
              "    </tr>\n",
              "    <tr>\n",
              "      <td>3</td>\n",
              "      <td>Dec</td>\n",
              "      <td>2019</td>\n",
              "      <td>7237</td>\n",
              "      <td>6709</td>\n",
              "      <td>9071</td>\n",
              "      <td>26.880363</td>\n",
              "      <td>5.464908</td>\n",
              "      <td>38.991681</td>\n",
              "    </tr>\n",
              "    <tr>\n",
              "      <td>4</td>\n",
              "      <td>Nov</td>\n",
              "      <td>2019</td>\n",
              "      <td>7952</td>\n",
              "      <td>7335</td>\n",
              "      <td>10262</td>\n",
              "      <td>25.960123</td>\n",
              "      <td>4.920811</td>\n",
              "      <td>38.840455</td>\n",
              "    </tr>\n",
              "  </tbody>\n",
              "</table>\n",
              "</div>"
            ],
            "text/plain": [
              "  Month  Year  Визиты  Посетители  Просмотры  Доля новых посетителей  \\\n",
              "0   Mar  2020    1614        1488       2060                6.426150   \n",
              "1   Feb  2020    6573        5999       8738               24.873669   \n",
              "2   Jan  2020    9187        8663      11231               27.189448   \n",
              "3   Dec  2019    7237        6709       9071               26.880363   \n",
              "4   Nov  2019    7952        7335      10262               25.960123   \n",
              "\n",
              "     Отказы  Глубина просмотра  \n",
              "0  1.416046          10.082479  \n",
              "1  4.674628          38.586017  \n",
              "2  4.304140          39.826698  \n",
              "3  5.464908          38.991681  \n",
              "4  4.920811          38.840455  "
            ]
          },
          "metadata": {
            "tags": []
          },
          "execution_count": 9
        }
      ]
    },
    {
      "cell_type": "code",
      "metadata": {
        "id": "T_pY8WSEfPF4"
      },
      "source": [
        "year_visitors = df_month.groupby(['Year'])['Визиты', 'Посетители', 'Просмотры'].sum()"
      ],
      "execution_count": null,
      "outputs": []
    },
    {
      "cell_type": "code",
      "metadata": {
        "id": "FF2mFUMofPF7",
        "outputId": "91058be7-92d6-49f8-8f4f-637b9ddcd7f9"
      },
      "source": [
        "year_visitors"
      ],
      "execution_count": null,
      "outputs": [
        {
          "output_type": "execute_result",
          "data": {
            "text/html": [
              "<div>\n",
              "<style scoped>\n",
              "    .dataframe tbody tr th:only-of-type {\n",
              "        vertical-align: middle;\n",
              "    }\n",
              "\n",
              "    .dataframe tbody tr th {\n",
              "        vertical-align: top;\n",
              "    }\n",
              "\n",
              "    .dataframe thead th {\n",
              "        text-align: right;\n",
              "    }\n",
              "</style>\n",
              "<table border=\"1\" class=\"dataframe\">\n",
              "  <thead>\n",
              "    <tr style=\"text-align: right;\">\n",
              "      <th></th>\n",
              "      <th>Визиты</th>\n",
              "      <th>Посетители</th>\n",
              "      <th>Просмотры</th>\n",
              "    </tr>\n",
              "    <tr>\n",
              "      <th>Year</th>\n",
              "      <th></th>\n",
              "      <th></th>\n",
              "      <th></th>\n",
              "    </tr>\n",
              "  </thead>\n",
              "  <tbody>\n",
              "    <tr>\n",
              "      <td>2017</td>\n",
              "      <td>106809</td>\n",
              "      <td>94432</td>\n",
              "      <td>161165</td>\n",
              "    </tr>\n",
              "    <tr>\n",
              "      <td>2018</td>\n",
              "      <td>116493</td>\n",
              "      <td>102818</td>\n",
              "      <td>166791</td>\n",
              "    </tr>\n",
              "    <tr>\n",
              "      <td>2019</td>\n",
              "      <td>87771</td>\n",
              "      <td>79063</td>\n",
              "      <td>122982</td>\n",
              "    </tr>\n",
              "    <tr>\n",
              "      <td>2020</td>\n",
              "      <td>17374</td>\n",
              "      <td>16150</td>\n",
              "      <td>22029</td>\n",
              "    </tr>\n",
              "  </tbody>\n",
              "</table>\n",
              "</div>"
            ],
            "text/plain": [
              "      Визиты  Посетители  Просмотры\n",
              "Year                               \n",
              "2017  106809       94432     161165\n",
              "2018  116493      102818     166791\n",
              "2019   87771       79063     122982\n",
              "2020   17374       16150      22029"
            ]
          },
          "metadata": {
            "tags": []
          },
          "execution_count": 17
        }
      ]
    },
    {
      "cell_type": "code",
      "metadata": {
        "id": "kEKxs-yOfPF_",
        "outputId": "03db14ae-f602-430e-b6fd-1a42ff019414"
      },
      "source": [
        "year_visitors.plot(title='Изменение показателей по годам')"
      ],
      "execution_count": null,
      "outputs": [
        {
          "output_type": "execute_result",
          "data": {
            "text/plain": [
              "<matplotlib.axes._subplots.AxesSubplot at 0x180ff8c0d88>"
            ]
          },
          "metadata": {
            "tags": []
          },
          "execution_count": 18
        },
        {
          "output_type": "display_data",
          "data": {
            "image/png": "[encoded data removed]",
            "text/plain": [
              "<Figure size 432x288 with 1 Axes>"
            ]
          },
          "metadata": {
            "tags": [],
            "needs_background": "light"
          }
        }
      ]
    },
    {
      "cell_type": "markdown",
      "metadata": {
        "id": "h7nLBcPnfPGC"
      },
      "source": [
        "Группировка по годам даёт более наглядное представление о состоянии популярности сайта. График с нисходящим трендом иллюстрирует её постепенный спад с течением времени. Объективно судить о динамике посещаемости сайта можно будет лишь имея данные на конец 2020 года."
      ]
    },
    {
      "cell_type": "code",
      "metadata": {
        "id": "Y6WIofeGfPGD",
        "outputId": "23e1f460-f39e-427d-c28e-e0cbf4540252"
      },
      "source": [
        "df_month.groupby(['Year'])['Доля новых посетителей'].sum().plot(title='Доля новых посетителей по годам')"
      ],
      "execution_count": null,
      "outputs": [
        {
          "output_type": "execute_result",
          "data": {
            "text/plain": [
              "<matplotlib.axes._subplots.AxesSubplot at 0x180ff687388>"
            ]
          },
          "metadata": {
            "tags": []
          },
          "execution_count": 13
        },
        {
          "output_type": "display_data",
          "data": {
            "image/png": "[encoded data removed]",
            "text/plain": [
              "<Figure size 432x288 with 1 Axes>"
            ]
          },
          "metadata": {
            "tags": [],
            "needs_background": "light"
          }
        }
      ]
    },
    {
      "cell_type": "markdown",
      "metadata": {
        "id": "2Nyaiei3fPGH"
      },
      "source": [
        "Доля новых посетителей с каждым годом росла до 2019 года, а потом произошёл спад (к началу 2020 года)."
      ]
    },
    {
      "cell_type": "code",
      "metadata": {
        "id": "BX8UChiLfPGI",
        "outputId": "fcd7bf6b-ef69-424f-dcff-654d5fd0dfb7"
      },
      "source": [
        "df_month.groupby(['Year'])['Отказы', 'Глубина просмотра'].sum().plot(title='Изменение числа отказов и глубины просмотров по годам')"
      ],
      "execution_count": null,
      "outputs": [
        {
          "output_type": "execute_result",
          "data": {
            "text/plain": [
              "<matplotlib.axes._subplots.AxesSubplot at 0x20d06bf7688>"
            ]
          },
          "metadata": {
            "tags": []
          },
          "execution_count": 69
        },
        {
          "output_type": "display_data",
          "data": {
            "image/png": "[encoded data removed]",
            "text/plain": [
              "<Figure size 432x288 with 1 Axes>"
            ]
          },
          "metadata": {
            "tags": [],
            "needs_background": "light"
          }
        }
      ]
    },
    {
      "cell_type": "markdown",
      "metadata": {
        "id": "SLGzwQPKfPGL"
      },
      "source": [
        "Отказы остаются примерно на одном уровне на протяжении всего периода, а вот глубина просмотра (по аналогии с долей новых посетителей) с 2017 по 2019 года немного выросла, а после начала идти на убыль."
      ]
    },
    {
      "cell_type": "code",
      "metadata": {
        "id": "KQED-z90fPGM"
      },
      "source": [
        "monthly = df_month.iloc[::-1]"
      ],
      "execution_count": null,
      "outputs": []
    },
    {
      "cell_type": "code",
      "metadata": {
        "id": "kBbL6lc0fPGP",
        "outputId": "67796b5b-99aa-47cb-f5bb-1a8e6c026736"
      },
      "source": [
        "monthly.groupby(['Month'], sort=False)['Визиты', 'Посетители', 'Просмотры'].sum().plot(title='Динамика по месяцам за весь период')"
      ],
      "execution_count": null,
      "outputs": [
        {
          "output_type": "execute_result",
          "data": {
            "text/plain": [
              "<matplotlib.axes._subplots.AxesSubplot at 0x180ff81ac48>"
            ]
          },
          "metadata": {
            "tags": []
          },
          "execution_count": 15
        },
        {
          "output_type": "display_data",
          "data": {
            "image/png": "[encoded data removed]",
            "text/plain": [
              "<Figure size 432x288 with 1 Axes>"
            ]
          },
          "metadata": {
            "tags": [],
            "needs_background": "light"
          }
        }
      ]
    },
    {
      "cell_type": "markdown",
      "metadata": {
        "id": "knE_TrUhfPGU"
      },
      "source": [
        "Для того, чтобы отследить какую-либо сезонную тенденцию посещения сайта, можно сгруппировать показатели по месяцам. По графику мы видим, что наиболее популярен сайт в конец весны и в декабрь-январь. Если сайт представляет собой собрание научных материалов (из предыдущего задания), тогда очевидно, почему именно в эти месяцы у него наибольший приток просмотров: студенты сдают сессии, а выпускники пишут выпускные работы."
      ]
    },
    {
      "cell_type": "markdown",
      "metadata": {
        "id": "NEcJbO0GfPGV"
      },
      "source": [
        "### Задание 3"
      ]
    },
    {
      "cell_type": "markdown",
      "metadata": {
        "id": "a3FXcL4ufPGV"
      },
      "source": [
        "В этом задании Вам предстоит выполнить роль аналитика данных в области образования.\n",
        "\n",
        "Заказчик (руководство вуза) предоставил обезличенные данные с баллами ЕГЭ студентов (`stud_spisok_ege.csv`) и сведения о баллах за контрольные работы (`stud_spisok_ball.csv`).\n",
        "\n",
        "Анализ этих данных позволит руководству вуза принимать обоснованные решения по повышению качества процесса обучения и выстраивать персональные образовательные маршруты (построить рекомендательную систему на основе искусственного интеллекта).\n",
        "\n",
        "По условию задания исходные файлы с данными модифицировать нельзя."
      ]
    },
    {
      "cell_type": "code",
      "metadata": {
        "id": "pVSGyY7cfPGX",
        "colab": {
          "base_uri": "https://localhost:8080/",
          "height": 198
        },
        "outputId": "8e1633cd-8249-42e3-d990-b652ace524e7"
      },
      "source": [
        "import pandas as pd\n",
        "\n",
        "url = \"https://raw.githubusercontent.com/dm-fedorov/pandas_basic/master/data/data_stud/stud_spisok_ege.csv\"\n",
        "\n",
        "df_ege = pd.read_csv(url, sep=';')\n",
        "df_ege.head()"
      ],
      "execution_count": null,
      "outputs": [
        {
          "output_type": "execute_result",
          "data": {
            "text/html": [
              "<div>\n",
              "<style scoped>\n",
              "    .dataframe tbody tr th:only-of-type {\n",
              "        vertical-align: middle;\n",
              "    }\n",
              "\n",
              "    .dataframe tbody tr th {\n",
              "        vertical-align: top;\n",
              "    }\n",
              "\n",
              "    .dataframe thead th {\n",
              "        text-align: right;\n",
              "    }\n",
              "</style>\n",
              "<table border=\"1\" class=\"dataframe\">\n",
              "  <thead>\n",
              "    <tr style=\"text-align: right;\">\n",
              "      <th></th>\n",
              "      <th>stud_kod</th>\n",
              "      <th>predmet_name</th>\n",
              "      <th>ball</th>\n",
              "      <th>year</th>\n",
              "      <th>svid_status</th>\n",
              "    </tr>\n",
              "  </thead>\n",
              "  <tbody>\n",
              "    <tr>\n",
              "      <th>0</th>\n",
              "      <td>50095</td>\n",
              "      <td>Русский язык</td>\n",
              "      <td>76</td>\n",
              "      <td>2013</td>\n",
              "      <td>Действительно</td>\n",
              "    </tr>\n",
              "    <tr>\n",
              "      <th>1</th>\n",
              "      <td>50095</td>\n",
              "      <td>Английский язык</td>\n",
              "      <td>94</td>\n",
              "      <td>2013</td>\n",
              "      <td>Действительно</td>\n",
              "    </tr>\n",
              "    <tr>\n",
              "      <th>2</th>\n",
              "      <td>50095</td>\n",
              "      <td>Математика</td>\n",
              "      <td>56</td>\n",
              "      <td>2013</td>\n",
              "      <td>Действительно</td>\n",
              "    </tr>\n",
              "    <tr>\n",
              "      <th>3</th>\n",
              "      <td>50095</td>\n",
              "      <td>Обществознание</td>\n",
              "      <td>70</td>\n",
              "      <td>2013</td>\n",
              "      <td>Действительно</td>\n",
              "    </tr>\n",
              "    <tr>\n",
              "      <th>4</th>\n",
              "      <td>50104</td>\n",
              "      <td>Русский язык</td>\n",
              "      <td>72</td>\n",
              "      <td>2013</td>\n",
              "      <td>Действительно</td>\n",
              "    </tr>\n",
              "  </tbody>\n",
              "</table>\n",
              "</div>"
            ],
            "text/plain": [
              "   stud_kod     predmet_name  ball  year    svid_status\n",
              "0     50095     Русский язык    76  2013  Действительно\n",
              "1     50095  Английский язык    94  2013  Действительно\n",
              "2     50095       Математика    56  2013  Действительно\n",
              "3     50095   Обществознание    70  2013  Действительно\n",
              "4     50104     Русский язык    72  2013  Действительно"
            ]
          },
          "metadata": {
            "tags": []
          },
          "execution_count": 1
        }
      ]
    },
    {
      "cell_type": "markdown",
      "metadata": {
        "id": "4Nl-IxwbfPGi"
      },
      "source": [
        "- `stud_kod` - идентификатор студента\n",
        "- `predmet_name` - имя предмета\n",
        "- `ball` - балл\n",
        "- `year` - год сдачи\n",
        "- `svid_status` - статус свидетельства о сдаче ЕГЭ"
      ]
    },
    {
      "cell_type": "code",
      "metadata": {
        "id": "qbfgnEAVfPGj",
        "colab": {
          "base_uri": "https://localhost:8080/",
          "height": 198
        },
        "outputId": "d59081c3-7aaa-4980-a3dd-98cbb2bf485c"
      },
      "source": [
        "import pandas as pd\n",
        "\n",
        "url = \"https://raw.githubusercontent.com/dm-fedorov/pandas_basic/master/data/data_stud/stud_spisok_ball.csv\"\n",
        "\n",
        "df_works = pd.read_csv(url, sep=';')\n",
        "df_works.head()"
      ],
      "execution_count": null,
      "outputs": [
        {
          "output_type": "execute_result",
          "data": {
            "text/html": [
              "<div>\n",
              "<style scoped>\n",
              "    .dataframe tbody tr th:only-of-type {\n",
              "        vertical-align: middle;\n",
              "    }\n",
              "\n",
              "    .dataframe tbody tr th {\n",
              "        vertical-align: top;\n",
              "    }\n",
              "\n",
              "    .dataframe thead th {\n",
              "        text-align: right;\n",
              "    }\n",
              "</style>\n",
              "<table border=\"1\" class=\"dataframe\">\n",
              "  <thead>\n",
              "    <tr style=\"text-align: right;\">\n",
              "      <th></th>\n",
              "      <th>stud_kod</th>\n",
              "      <th>uch_plan_kod</th>\n",
              "      <th>predmet_name</th>\n",
              "      <th>ball</th>\n",
              "      <th>ts</th>\n",
              "      <th>cd_nomer</th>\n",
              "      <th>semestr</th>\n",
              "      <th>cd_type_name</th>\n",
              "      <th>uch_plan_punkt_kod</th>\n",
              "    </tr>\n",
              "  </thead>\n",
              "  <tbody>\n",
              "    <tr>\n",
              "      <th>0</th>\n",
              "      <td>8</td>\n",
              "      <td>1</td>\n",
              "      <td>История</td>\n",
              "      <td>25</td>\n",
              "      <td>25-дек-11</td>\n",
              "      <td>1</td>\n",
              "      <td>1</td>\n",
              "      <td>Эссе</td>\n",
              "      <td>255</td>\n",
              "    </tr>\n",
              "    <tr>\n",
              "      <th>1</th>\n",
              "      <td>8</td>\n",
              "      <td>1</td>\n",
              "      <td>История</td>\n",
              "      <td>30</td>\n",
              "      <td>25-дек-11</td>\n",
              "      <td>2</td>\n",
              "      <td>1</td>\n",
              "      <td>Презентация</td>\n",
              "      <td>255</td>\n",
              "    </tr>\n",
              "    <tr>\n",
              "      <th>2</th>\n",
              "      <td>8</td>\n",
              "      <td>1</td>\n",
              "      <td>История</td>\n",
              "      <td>45</td>\n",
              "      <td>NaN</td>\n",
              "      <td>3</td>\n",
              "      <td>1</td>\n",
              "      <td>Аналитическая работа</td>\n",
              "      <td>255</td>\n",
              "    </tr>\n",
              "    <tr>\n",
              "      <th>3</th>\n",
              "      <td>8</td>\n",
              "      <td>1</td>\n",
              "      <td>Философия</td>\n",
              "      <td>15</td>\n",
              "      <td>30-апр-15</td>\n",
              "      <td>2</td>\n",
              "      <td>1</td>\n",
              "      <td>Реферат</td>\n",
              "      <td>293</td>\n",
              "    </tr>\n",
              "    <tr>\n",
              "      <th>4</th>\n",
              "      <td>8</td>\n",
              "      <td>1</td>\n",
              "      <td>Философия</td>\n",
              "      <td>18</td>\n",
              "      <td>30-апр-15</td>\n",
              "      <td>1</td>\n",
              "      <td>1</td>\n",
              "      <td>Аналитическая работа</td>\n",
              "      <td>293</td>\n",
              "    </tr>\n",
              "  </tbody>\n",
              "</table>\n",
              "</div>"
            ],
            "text/plain": [
              "   stud_kod  uch_plan_kod  ...          cd_type_name uch_plan_punkt_kod\n",
              "0         8             1  ...                  Эссе                255\n",
              "1         8             1  ...           Презентация                255\n",
              "2         8             1  ...  Аналитическая работа                255\n",
              "3         8             1  ...               Реферат                293\n",
              "4         8             1  ...  Аналитическая работа                293\n",
              "\n",
              "[5 rows x 9 columns]"
            ]
          },
          "metadata": {
            "tags": []
          },
          "execution_count": 28
        }
      ]
    },
    {
      "cell_type": "markdown",
      "metadata": {
        "id": "EbuOffBUfPGp"
      },
      "source": [
        "- `stud_kod` - идентификатор студента \n",
        "- `uch_plan_kod` - внутренний код учебного плана\n",
        "- `predmet_name` - имя дисциплины по учебному плану\n",
        "- `ball` - балл за контрольную работу\n",
        "- `ts` - время, когда оценка внесена в систему\n",
        "- `cd_nomer` - номер контрольной работы, если их несколько за семестр\n",
        "- `semestr` - семестр\n",
        "- `cd_type_name` - вид контрольной работы\n",
        "- `uch_plan_punkt_kod` - идентификатор учебного плана"
      ]
    },
    {
      "cell_type": "markdown",
      "metadata": {
        "id": "LU7Vs74lfPGq"
      },
      "source": [
        "**Задача 3.1**: определите, всего сколько студентов представлено в наборе данных."
      ]
    },
    {
      "cell_type": "code",
      "metadata": {
        "id": "y12y1el3fPGr",
        "colab": {
          "base_uri": "https://localhost:8080/",
          "height": 232
        },
        "outputId": "55c62cf1-1a61-4530-84ea-c2bf99874089"
      },
      "source": [
        "df_ege.stud_kod.value_counts()"
      ],
      "execution_count": null,
      "outputs": [
        {
          "output_type": "execute_result",
          "data": {
            "text/plain": [
              "489343    11\n",
              "47277     11\n",
              "477292    10\n",
              "300427    10\n",
              "510099     9\n",
              "          ..\n",
              "305619     3\n",
              "309721     3\n",
              "303586     3\n",
              "511597     3\n",
              "56429      3\n",
              "Name: stud_kod, Length: 3001, dtype: int64"
            ]
          },
          "metadata": {
            "tags": []
          },
          "execution_count": 3
        }
      ]
    },
    {
      "cell_type": "code",
      "metadata": {
        "id": "VPqVVnvYfPGw",
        "colab": {
          "base_uri": "https://localhost:8080/",
          "height": 232
        },
        "outputId": "423e38fa-d642-43e7-8d1c-2413e82c17c8"
      },
      "source": [
        "df_works.stud_kod.value_counts()"
      ],
      "execution_count": null,
      "outputs": [
        {
          "output_type": "execute_result",
          "data": {
            "text/plain": [
              "415     288\n",
              "104     279\n",
              "1587    279\n",
              "1160    278\n",
              "1041    261\n",
              "       ... \n",
              "1610    131\n",
              "1305    127\n",
              "776     115\n",
              "2682     76\n",
              "1758     70\n",
              "Name: stud_kod, Length: 285, dtype: int64"
            ]
          },
          "metadata": {
            "tags": []
          },
          "execution_count": 4
        }
      ]
    },
    {
      "cell_type": "markdown",
      "metadata": {
        "id": "f6VlcxCtfPG0"
      },
      "source": [
        "Предоставленные данные содержат следующую информацию:\n",
        "* Баллы ЕГЭ **3001** уникальных студентов на основании идентификатора студента\n",
        "* Работы по различным дисциплинам и баллы **285** уникальных студентов на основании идентификатора студента"
      ]
    },
    {
      "cell_type": "markdown",
      "metadata": {
        "id": "wdE9QXctfPG1"
      },
      "source": [
        "**Задача 3.2**: определите по данным ЕГЭ те предметы, которые чаще всего сдают абитуренты в этом вузе. "
      ]
    },
    {
      "cell_type": "code",
      "metadata": {
        "id": "hCjBTCtMfPG2",
        "colab": {
          "base_uri": "https://localhost:8080/",
          "height": 299
        },
        "outputId": "91eaca4f-d992-4724-fa71-0dd2322d9af4"
      },
      "source": [
        "df_ege.predmet_name.value_counts().plot(kind='barh', title='Популярность ЕГЭ при поступлении', color='royalblue')"
      ],
      "execution_count": null,
      "outputs": [
        {
          "output_type": "execute_result",
          "data": {
            "text/plain": [
              "<matplotlib.axes._subplots.AxesSubplot at 0x7f94dedf1128>"
            ]
          },
          "metadata": {
            "tags": []
          },
          "execution_count": 5
        },
        {
          "output_type": "display_data",
          "data": {
            "image/png": "[encoded data removed]",
            "text/plain": [
              "<Figure size 432x288 with 1 Axes>"
            ]
          },
          "metadata": {
            "tags": [],
            "needs_background": "light"
          }
        }
      ]
    },
    {
      "cell_type": "markdown",
      "metadata": {
        "id": "-BvzvzJsfPG7"
      },
      "source": [
        "В данный университет студенты чаще всего принимаются со сданными экзамеными по *математике, русскому языку* и *обществознанию*. С таким набором в ВУЗЕ могут быть представлены, скорее всего, следующие самые распространённые специальности:\n",
        "* экономика\n",
        "* социология\n",
        "* менеджмент\n",
        "* туризм и сервис\n",
        "* управление персоналом"
      ]
    },
    {
      "cell_type": "markdown",
      "metadata": {
        "id": "Dx55KMaTfPG8"
      },
      "source": [
        "**Задача 3.3**: определите средние, минимальные и максимальные баллы ЕГЭ по отдельным предметам."
      ]
    },
    {
      "cell_type": "code",
      "metadata": {
        "id": "S6_-0X1mfPG9"
      },
      "source": [
        "df_ege = df_ege[df_ege.predmet_name\t!= 'Сочинение']"
      ],
      "execution_count": null,
      "outputs": []
    },
    {
      "cell_type": "code",
      "metadata": {
        "id": "uSakkk_ffPHB",
        "colab": {
          "base_uri": "https://localhost:8080/",
          "height": 529
        },
        "outputId": "6ad7201a-5787-4436-b7ba-f1a93df9b1b8"
      },
      "source": [
        "df_ege.groupby(['predmet_name'])['ball'].aggregate(['mean','min', 'max'])"
      ],
      "execution_count": null,
      "outputs": [
        {
          "output_type": "execute_result",
          "data": {
            "text/html": [
              "<div>\n",
              "<style scoped>\n",
              "    .dataframe tbody tr th:only-of-type {\n",
              "        vertical-align: middle;\n",
              "    }\n",
              "\n",
              "    .dataframe tbody tr th {\n",
              "        vertical-align: top;\n",
              "    }\n",
              "\n",
              "    .dataframe thead th {\n",
              "        text-align: right;\n",
              "    }\n",
              "</style>\n",
              "<table border=\"1\" class=\"dataframe\">\n",
              "  <thead>\n",
              "    <tr style=\"text-align: right;\">\n",
              "      <th></th>\n",
              "      <th>mean</th>\n",
              "      <th>min</th>\n",
              "      <th>max</th>\n",
              "    </tr>\n",
              "    <tr>\n",
              "      <th>predmet_name</th>\n",
              "      <th></th>\n",
              "      <th></th>\n",
              "      <th></th>\n",
              "    </tr>\n",
              "  </thead>\n",
              "  <tbody>\n",
              "    <tr>\n",
              "      <th>Английский язык</th>\n",
              "      <td>69.949640</td>\n",
              "      <td>0</td>\n",
              "      <td>100</td>\n",
              "    </tr>\n",
              "    <tr>\n",
              "      <th>Английский язык (устный)</th>\n",
              "      <td>0.000000</td>\n",
              "      <td>0</td>\n",
              "      <td>0</td>\n",
              "    </tr>\n",
              "    <tr>\n",
              "      <th>Биология</th>\n",
              "      <td>55.557377</td>\n",
              "      <td>0</td>\n",
              "      <td>93</td>\n",
              "    </tr>\n",
              "    <tr>\n",
              "      <th>География</th>\n",
              "      <td>64.333333</td>\n",
              "      <td>37</td>\n",
              "      <td>85</td>\n",
              "    </tr>\n",
              "    <tr>\n",
              "      <th>Информатика и ИКТ</th>\n",
              "      <td>62.481928</td>\n",
              "      <td>0</td>\n",
              "      <td>94</td>\n",
              "    </tr>\n",
              "    <tr>\n",
              "      <th>История</th>\n",
              "      <td>59.945402</td>\n",
              "      <td>0</td>\n",
              "      <td>100</td>\n",
              "    </tr>\n",
              "    <tr>\n",
              "      <th>Литература</th>\n",
              "      <td>63.283333</td>\n",
              "      <td>0</td>\n",
              "      <td>87</td>\n",
              "    </tr>\n",
              "    <tr>\n",
              "      <th>Математика</th>\n",
              "      <td>64.135454</td>\n",
              "      <td>0</td>\n",
              "      <td>100</td>\n",
              "    </tr>\n",
              "    <tr>\n",
              "      <th>Немецкий язык</th>\n",
              "      <td>66.285714</td>\n",
              "      <td>23</td>\n",
              "      <td>90</td>\n",
              "    </tr>\n",
              "    <tr>\n",
              "      <th>Немецкий язык (устный)</th>\n",
              "      <td>0.000000</td>\n",
              "      <td>0</td>\n",
              "      <td>0</td>\n",
              "    </tr>\n",
              "    <tr>\n",
              "      <th>Обществознание</th>\n",
              "      <td>71.406528</td>\n",
              "      <td>0</td>\n",
              "      <td>100</td>\n",
              "    </tr>\n",
              "    <tr>\n",
              "      <th>Русский язык</th>\n",
              "      <td>79.134975</td>\n",
              "      <td>0</td>\n",
              "      <td>100</td>\n",
              "    </tr>\n",
              "    <tr>\n",
              "      <th>Физика</th>\n",
              "      <td>53.458824</td>\n",
              "      <td>0</td>\n",
              "      <td>96</td>\n",
              "    </tr>\n",
              "    <tr>\n",
              "      <th>Французский язык</th>\n",
              "      <td>71.636364</td>\n",
              "      <td>44</td>\n",
              "      <td>92</td>\n",
              "    </tr>\n",
              "    <tr>\n",
              "      <th>Химия</th>\n",
              "      <td>55.000000</td>\n",
              "      <td>0</td>\n",
              "      <td>98</td>\n",
              "    </tr>\n",
              "  </tbody>\n",
              "</table>\n",
              "</div>"
            ],
            "text/plain": [
              "                               mean  min  max\n",
              "predmet_name                                 \n",
              "Английский язык           69.949640    0  100\n",
              "Английский язык (устный)   0.000000    0    0\n",
              "Биология                  55.557377    0   93\n",
              "География                 64.333333   37   85\n",
              "Информатика и ИКТ         62.481928    0   94\n",
              "История                   59.945402    0  100\n",
              "Литература                63.283333    0   87\n",
              "Математика                64.135454    0  100\n",
              "Немецкий язык             66.285714   23   90\n",
              "Немецкий язык (устный)     0.000000    0    0\n",
              "Обществознание            71.406528    0  100\n",
              "Русский язык              79.134975    0  100\n",
              "Физика                    53.458824    0   96\n",
              "Французский язык          71.636364   44   92\n",
              "Химия                     55.000000    0   98"
            ]
          },
          "metadata": {
            "tags": []
          },
          "execution_count": 7
        }
      ]
    },
    {
      "cell_type": "markdown",
      "metadata": {
        "id": "2mEk47O8fPHF"
      },
      "source": [
        "Средние, минимальные и максимальные баллы ЕГЭ по отдельным предметам представлены в таблице. Для анализа были удалены баллы по сочинениям, потому что за него при поступлении обычно дают 1-5 баллов, и это портит статистику. Тем не менее мы видим, что в колонке **min** слишком много нулевых значений. Обычно такое случается редко, потому что как минимум 1 балл каждый способен набрать при сдаче ЕГЭ. Попробуем удалить нулевые показатели, допустив, что они отражают своеобразное отсутствие информации."
      ]
    },
    {
      "cell_type": "code",
      "metadata": {
        "id": "tBbu85TlfPHG"
      },
      "source": [
        "df_ege_new = df_ege[df_ege.ball != 0]"
      ],
      "execution_count": null,
      "outputs": []
    },
    {
      "cell_type": "code",
      "metadata": {
        "id": "nz6KgetQfPHK",
        "colab": {
          "base_uri": "https://localhost:8080/",
          "height": 469
        },
        "outputId": "f88f9058-2620-4828-a8c1-0a78c81a3fca"
      },
      "source": [
        "df_ege_new.groupby(['predmet_name'])['ball'].aggregate(['mean','min', 'max'])"
      ],
      "execution_count": null,
      "outputs": [
        {
          "output_type": "execute_result",
          "data": {
            "text/html": [
              "<div>\n",
              "<style scoped>\n",
              "    .dataframe tbody tr th:only-of-type {\n",
              "        vertical-align: middle;\n",
              "    }\n",
              "\n",
              "    .dataframe tbody tr th {\n",
              "        vertical-align: top;\n",
              "    }\n",
              "\n",
              "    .dataframe thead th {\n",
              "        text-align: right;\n",
              "    }\n",
              "</style>\n",
              "<table border=\"1\" class=\"dataframe\">\n",
              "  <thead>\n",
              "    <tr style=\"text-align: right;\">\n",
              "      <th></th>\n",
              "      <th>mean</th>\n",
              "      <th>min</th>\n",
              "      <th>max</th>\n",
              "    </tr>\n",
              "    <tr>\n",
              "      <th>predmet_name</th>\n",
              "      <th></th>\n",
              "      <th></th>\n",
              "      <th></th>\n",
              "    </tr>\n",
              "  </thead>\n",
              "  <tbody>\n",
              "    <tr>\n",
              "      <th>Английский язык</th>\n",
              "      <td>70.383661</td>\n",
              "      <td>22</td>\n",
              "      <td>100</td>\n",
              "    </tr>\n",
              "    <tr>\n",
              "      <th>Биология</th>\n",
              "      <td>58.431034</td>\n",
              "      <td>36</td>\n",
              "      <td>93</td>\n",
              "    </tr>\n",
              "    <tr>\n",
              "      <th>География</th>\n",
              "      <td>64.333333</td>\n",
              "      <td>37</td>\n",
              "      <td>85</td>\n",
              "    </tr>\n",
              "    <tr>\n",
              "      <th>Информатика и ИКТ</th>\n",
              "      <td>65.645570</td>\n",
              "      <td>35</td>\n",
              "      <td>94</td>\n",
              "    </tr>\n",
              "    <tr>\n",
              "      <th>История</th>\n",
              "      <td>62.834337</td>\n",
              "      <td>32</td>\n",
              "      <td>100</td>\n",
              "    </tr>\n",
              "    <tr>\n",
              "      <th>Литература</th>\n",
              "      <td>64.355932</td>\n",
              "      <td>35</td>\n",
              "      <td>87</td>\n",
              "    </tr>\n",
              "    <tr>\n",
              "      <th>Математика</th>\n",
              "      <td>64.516331</td>\n",
              "      <td>20</td>\n",
              "      <td>100</td>\n",
              "    </tr>\n",
              "    <tr>\n",
              "      <th>Немецкий язык</th>\n",
              "      <td>66.285714</td>\n",
              "      <td>23</td>\n",
              "      <td>90</td>\n",
              "    </tr>\n",
              "    <tr>\n",
              "      <th>Обществознание</th>\n",
              "      <td>71.524439</td>\n",
              "      <td>40</td>\n",
              "      <td>100</td>\n",
              "    </tr>\n",
              "    <tr>\n",
              "      <th>Русский язык</th>\n",
              "      <td>79.186987</td>\n",
              "      <td>37</td>\n",
              "      <td>100</td>\n",
              "    </tr>\n",
              "    <tr>\n",
              "      <th>Физика</th>\n",
              "      <td>56.447205</td>\n",
              "      <td>27</td>\n",
              "      <td>96</td>\n",
              "    </tr>\n",
              "    <tr>\n",
              "      <th>Французский язык</th>\n",
              "      <td>71.636364</td>\n",
              "      <td>44</td>\n",
              "      <td>92</td>\n",
              "    </tr>\n",
              "    <tr>\n",
              "      <th>Химия</th>\n",
              "      <td>61.346154</td>\n",
              "      <td>36</td>\n",
              "      <td>98</td>\n",
              "    </tr>\n",
              "  </tbody>\n",
              "</table>\n",
              "</div>"
            ],
            "text/plain": [
              "                        mean  min  max\n",
              "predmet_name                          \n",
              "Английский язык    70.383661   22  100\n",
              "Биология           58.431034   36   93\n",
              "География          64.333333   37   85\n",
              "Информатика и ИКТ  65.645570   35   94\n",
              "История            62.834337   32  100\n",
              "Литература         64.355932   35   87\n",
              "Математика         64.516331   20  100\n",
              "Немецкий язык      66.285714   23   90\n",
              "Обществознание     71.524439   40  100\n",
              "Русский язык       79.186987   37  100\n",
              "Физика             56.447205   27   96\n",
              "Французский язык   71.636364   44   92\n",
              "Химия              61.346154   36   98"
            ]
          },
          "metadata": {
            "tags": []
          },
          "execution_count": 9
        }
      ]
    },
    {
      "cell_type": "markdown",
      "metadata": {
        "id": "g014mod2fPHN"
      },
      "source": [
        "Вот так таблица выглядит более репрезентативно."
      ]
    },
    {
      "cell_type": "markdown",
      "metadata": {
        "id": "ZIWNczLNfPHN"
      },
      "source": [
        "**Задача 3.4**: определите годы с максимальными и минимальными показателями ЕГЭ."
      ]
    },
    {
      "cell_type": "code",
      "metadata": {
        "id": "jkBTw0kRfPHO",
        "colab": {
          "base_uri": "https://localhost:8080/",
          "height": 286
        },
        "outputId": "28e20775-3f85-4db0-cdd7-0854cfe40d66"
      },
      "source": [
        "years_max = df_ege_new[df_ege_new.ball == df_ege_new.ball.max()]\n",
        "years_max.groupby(['year', 'predmet_name'])['ball'].mean()"
      ],
      "execution_count": null,
      "outputs": [
        {
          "output_type": "execute_result",
          "data": {
            "text/plain": [
              "year  predmet_name   \n",
              "2012  Обществознание     100\n",
              "      Русский язык       100\n",
              "2013  Английский язык    100\n",
              "      Математика         100\n",
              "      Обществознание     100\n",
              "      Русский язык       100\n",
              "2014  Русский язык       100\n",
              "2015  Русский язык       100\n",
              "2016  Математика         100\n",
              "      Обществознание     100\n",
              "      Русский язык       100\n",
              "2017  История            100\n",
              "      Русский язык       100\n",
              "Name: ball, dtype: int64"
            ]
          },
          "metadata": {
            "tags": []
          },
          "execution_count": 10
        }
      ]
    },
    {
      "cell_type": "code",
      "metadata": {
        "id": "nqQeGcpsfPHS",
        "colab": {
          "base_uri": "https://localhost:8080/",
          "height": 281
        },
        "outputId": "6705ce6e-e96f-4cfb-976d-75cdb96c62b1"
      },
      "source": [
        "years_max.year.value_counts().plot(kind='pie', title='Распределение лучших результатов по годам', autopct='%1.1f%%')"
      ],
      "execution_count": null,
      "outputs": [
        {
          "output_type": "execute_result",
          "data": {
            "text/plain": [
              "<matplotlib.axes._subplots.AxesSubplot at 0x7f94dece53c8>"
            ]
          },
          "metadata": {
            "tags": []
          },
          "execution_count": 11
        },
        {
          "output_type": "display_data",
          "data": {
            "image/png": "[encoded data removed]",
            "text/plain": [
              "<Figure size 432x288 with 1 Axes>"
            ]
          },
          "metadata": {
            "tags": []
          }
        }
      ]
    },
    {
      "cell_type": "markdown",
      "metadata": {
        "id": "5SIK7q49fPHW"
      },
      "source": [
        "Больше всего максимальных результатов было в 2013 году."
      ]
    },
    {
      "cell_type": "code",
      "metadata": {
        "id": "7EBI7P-ZfPHX"
      },
      "source": [
        "years_min = df_ege_new[df_ege_new.ball == df_ege_new.ball.min()]"
      ],
      "execution_count": null,
      "outputs": []
    },
    {
      "cell_type": "code",
      "metadata": {
        "id": "zkcoxle7fPHZ",
        "outputId": "e87b0cad-9270-4727-e868-03a47cb6ea5b"
      },
      "source": [
        "years_min.groupby(['year', 'predmet_name'])['ball'].mean()"
      ],
      "execution_count": null,
      "outputs": [
        {
          "output_type": "execute_result",
          "data": {
            "text/plain": [
              "year  predmet_name\n",
              "2014  Математика      20\n",
              "Name: ball, dtype: int64"
            ]
          },
          "metadata": {
            "tags": []
          },
          "execution_count": 12
        }
      ]
    },
    {
      "cell_type": "markdown",
      "metadata": {
        "id": "IDD3tUlQfPHd"
      },
      "source": [
        "Минимальное значение (20 баллов по математике) имело место в 2014 году."
      ]
    },
    {
      "cell_type": "markdown",
      "metadata": {
        "id": "_xQUWkVNfPHd"
      },
      "source": [
        "**Задача 3.5**: определите наиболее часто встречающийся вид контрольной работы в вузе."
      ]
    },
    {
      "cell_type": "code",
      "metadata": {
        "id": "9kLR1FmefPHe",
        "colab": {
          "base_uri": "https://localhost:8080/",
          "height": 299
        },
        "outputId": "023e6c54-ad11-4dea-951b-b6181f747d97"
      },
      "source": [
        "df_works.cd_type_name.value_counts().head().plot(kind='barh', title='Самые распространённые работы в вузе', color='m')"
      ],
      "execution_count": null,
      "outputs": [
        {
          "output_type": "execute_result",
          "data": {
            "text/plain": [
              "<matplotlib.axes._subplots.AxesSubplot at 0x7f94de788a90>"
            ]
          },
          "metadata": {
            "tags": []
          },
          "execution_count": 13
        },
        {
          "output_type": "display_data",
          "data": {
            "image/png": "[encoded data removed]",
            "text/plain": [
              "<Figure size 432x288 with 1 Axes>"
            ]
          },
          "metadata": {
            "tags": [],
            "needs_background": "light"
          }
        }
      ]
    },
    {
      "cell_type": "markdown",
      "metadata": {
        "id": "bORyGPb0fPHi"
      },
      "source": [
        "Наиболее часто встречающийся вид контрольной работы в вузе — это, собственно, **контрольная работа**."
      ]
    },
    {
      "cell_type": "markdown",
      "metadata": {
        "id": "qg-da1CxfPHk"
      },
      "source": [
        "**Задача 3.6**: определите дисциплину(ы), вызвавшую наибольшие сложности у студентов. \n",
        "\n",
        "Это позволит усилить подготовку по данным дисциплинам через внедрение факультативных занятий. "
      ]
    },
    {
      "cell_type": "code",
      "metadata": {
        "id": "L1WcGbFIfPHk"
      },
      "source": [
        "df_works.ball = df_works.ball.str.replace(',', '.').apply(lambda x: float(x))"
      ],
      "execution_count": null,
      "outputs": []
    },
    {
      "cell_type": "code",
      "metadata": {
        "id": "wl6AmeDDfPHp",
        "colab": {
          "base_uri": "https://localhost:8080/",
          "height": 53
        },
        "outputId": "c7f18e85-1f31-4b4f-98d7-75a9872bae74"
      },
      "source": [
        "print(df_works.ball.max())\n",
        "print(df_works.ball.min())"
      ],
      "execution_count": null,
      "outputs": [
        {
          "output_type": "stream",
          "text": [
            "95.0\n",
            "0.0\n"
          ],
          "name": "stdout"
        }
      ]
    },
    {
      "cell_type": "markdown",
      "metadata": {
        "id": "ms8Pprg2fPHx"
      },
      "source": [
        "Для начала посмотрим, какое ранжирование по баллам существует в вузе. Далее допустим, что все работы оцениваются примерно одинаково: **от 0 до 95 баллов**."
      ]
    },
    {
      "cell_type": "code",
      "metadata": {
        "id": "yGQvysBMfPHy"
      },
      "source": [
        "df_problems = df_works[df_works.ball <= 28]"
      ],
      "execution_count": null,
      "outputs": []
    },
    {
      "cell_type": "code",
      "metadata": {
        "id": "z2MPawLwfPH4",
        "colab": {
          "base_uri": "https://localhost:8080/",
          "height": 299
        },
        "outputId": "a4fad364-5240-4d86-867c-231452ef6b63"
      },
      "source": [
        "df_problems.groupby('predmet_name')['ball'].count().nlargest(10).plot(kind='barh', title='Наиболее проблемные дисциплины', color='crimson')"
      ],
      "execution_count": null,
      "outputs": [
        {
          "output_type": "execute_result",
          "data": {
            "text/plain": [
              "<matplotlib.axes._subplots.AxesSubplot at 0x7f94de6facf8>"
            ]
          },
          "metadata": {
            "tags": []
          },
          "execution_count": 17
        },
        {
          "output_type": "display_data",
          "data": {
            "image/png": "[encoded data removed]",
            "text/plain": [
              "<Figure size 432x288 with 1 Axes>"
            ]
          },
          "metadata": {
            "tags": [],
            "needs_background": "light"
          }
        }
      ]
    },
    {
      "cell_type": "markdown",
      "metadata": {
        "id": "bd69a-gffPH_"
      },
      "source": [
        "Если допустить, что работы, оцениваемые в менее 28 баллов (около 30%), сигнализируют о наличии проблем с дисциплиной, то наибольшее число работ с такими баллами в вузе по **информатике**."
      ]
    },
    {
      "cell_type": "markdown",
      "metadata": {
        "id": "adJiWB4afPIA"
      },
      "source": [
        "**Задача 3.7**: определите отстающих студентов (претендентов на отчисление). "
      ]
    },
    {
      "cell_type": "code",
      "metadata": {
        "id": "4ozFVhNjfPIB"
      },
      "source": [
        "df_works['year'] = df_works['ts'].str.split(\"-\")"
      ],
      "execution_count": null,
      "outputs": []
    },
    {
      "cell_type": "code",
      "metadata": {
        "id": "8_RDL5WVfPIE"
      },
      "source": [
        "df_works['year'] = df_works['year'].str.get(2)"
      ],
      "execution_count": null,
      "outputs": []
    },
    {
      "cell_type": "code",
      "metadata": {
        "id": "2srmVuy3fPII",
        "colab": {
          "base_uri": "https://localhost:8080/",
          "height": 160
        },
        "outputId": "a7a4566d-64fb-4568-d71c-4d95d526507c"
      },
      "source": [
        "df_works.year.value_counts()"
      ],
      "execution_count": null,
      "outputs": [
        {
          "output_type": "execute_result",
          "data": {
            "text/plain": [
              "15    21343\n",
              "13    16273\n",
              "14    15285\n",
              "12     9862\n",
              "11     2106\n",
              "16      427\n",
              "17       35\n",
              "Name: year, dtype: int64"
            ]
          },
          "metadata": {
            "tags": []
          },
          "execution_count": 34
        }
      ]
    },
    {
      "cell_type": "code",
      "metadata": {
        "id": "fqs8uW_dfPIO"
      },
      "source": [
        "desperate = df_works[(df_works.ball <= 15) & \n",
        "                     ((df_works.year == '16') | (df_works.year == '17'))]"
      ],
      "execution_count": null,
      "outputs": []
    },
    {
      "cell_type": "markdown",
      "metadata": {
        "id": "BFJMSFgWfPIR"
      },
      "source": [
        "Будем считать отстающими студентами тех, у кого за **последние два года** больше всего работ с оценков **менее 15 баллов**. Ранние годы не учитываем, так как к последнему году студенты могли исправить большинство плохих оценок или же лучше выучить проблемную дисциплину, а отстающие в ранних годах уже скорее всего были отчислены. "
      ]
    },
    {
      "cell_type": "code",
      "metadata": {
        "id": "X3NPCfvRfPIS",
        "colab": {
          "base_uri": "https://localhost:8080/",
          "height": 299
        },
        "outputId": "7274a954-169b-49c6-cf89-6935f2507212"
      },
      "source": [
        "desperate.stud_kod.value_counts().plot(kind='barh', title='Претенденты на отчисление', color='navy')"
      ],
      "execution_count": null,
      "outputs": [
        {
          "output_type": "execute_result",
          "data": {
            "text/plain": [
              "<matplotlib.axes._subplots.AxesSubplot at 0x7f94dcdb4dd8>"
            ]
          },
          "metadata": {
            "tags": []
          },
          "execution_count": 36
        },
        {
          "output_type": "display_data",
          "data": {
            "image/png": "[encoded data removed]",
            "text/plain": [
              "<Figure size 432x288 with 1 Axes>"
            ]
          },
          "metadata": {
            "tags": [],
            "needs_background": "light"
          }
        }
      ]
    },
    {
      "cell_type": "markdown",
      "metadata": {
        "id": "ANrMJXMYfPIY"
      },
      "source": [
        "График показывает, что больше 10 работ с низкими оценками у студентов с идентификаторами: `415`, `1587`, `104`, `2143`, `354`, `342`, `414`."
      ]
    },
    {
      "cell_type": "markdown",
      "metadata": {
        "id": "DfiGqwabfPIZ"
      },
      "source": [
        "**Задача 3.8**: определите семестр и год, наиболее сложные для отдельных (выбранных) студентов. "
      ]
    },
    {
      "cell_type": "code",
      "metadata": {
        "id": "8BOi85X7fPIZ"
      },
      "source": [
        "selection = df_works.head(1500)"
      ],
      "execution_count": null,
      "outputs": []
    },
    {
      "cell_type": "code",
      "metadata": {
        "id": "x6arG-ZMfPId",
        "outputId": "89b3e517-9a7c-406f-ae29-e29a0802dea7"
      },
      "source": [
        "selection.stud_kod.value_counts()"
      ],
      "execution_count": null,
      "outputs": [
        {
          "output_type": "execute_result",
          "data": {
            "text/plain": [
              "55    121\n",
              "70    114\n",
              "21    112\n",
              "9      94\n",
              "8      92\n",
              "73     52\n",
              "87     41\n",
              "Name: stud_kod, dtype: int64"
            ]
          },
          "metadata": {
            "tags": []
          },
          "execution_count": 10
        }
      ]
    },
    {
      "cell_type": "markdown",
      "metadata": {
        "id": "49_i8eoBfPIj"
      },
      "source": [
        "Я отрезала первые 1500 значений от целой dataframe `df_works`, в результате получилось **7 уникальных студентов**. Далее определим, какой семестр и год был наиболее сложным для каждого. Для этого допустим следующее:\n",
        "* чем больше у студента работ с баллом меньше 15, тем труднее ему давался период"
      ]
    },
    {
      "cell_type": "code",
      "metadata": {
        "id": "ymatDauNfPIl"
      },
      "source": [
        "selection = selection[selection.ball <= 15]"
      ],
      "execution_count": null,
      "outputs": []
    },
    {
      "cell_type": "code",
      "metadata": {
        "id": "LZKelyOEfPIp",
        "outputId": "afd9ab66-b580-49ba-fd59-e2f0c39cc383"
      },
      "source": [
        "selection.groupby(['stud_kod', 'semestr', 'year'])['cd_type_name'].count().nlargest(26)"
      ],
      "execution_count": null,
      "outputs": [
        {
          "output_type": "execute_result",
          "data": {
            "text/plain": [
              "stud_kod  semestr  year\n",
              "55        5        13      20\n",
              "          6        14      19\n",
              "87        2        15      18\n",
              "55        2        15      17\n",
              "70        2        15      17\n",
              "          4        13      17\n",
              "8         2        15      16\n",
              "          5        13      16\n",
              "21        4        13      16\n",
              "          6        14      16\n",
              "55        4        13      16\n",
              "70        6        14      16\n",
              "8         6        14      15\n",
              "9         2        15      15\n",
              "          5        14      15\n",
              "21        2        15      15\n",
              "8         7        15      13\n",
              "9         6        14      13\n",
              "8         4        13      12\n",
              "21        5        14      12\n",
              "9         4        13      11\n",
              "21        7        15      11\n",
              "55        7        14      11\n",
              "70        7        15      11\n",
              "87        1        15      11\n",
              "55        1        15      10\n",
              "Name: cd_type_name, dtype: int64"
            ]
          },
          "metadata": {
            "tags": []
          },
          "execution_count": 12
        }
      ]
    },
    {
      "cell_type": "markdown",
      "metadata": {
        "id": "4VniBBpDfPIw"
      },
      "source": [
        "С помощью сводной таблицы можно увидеть, какой семестр и год являлся наиболее сложным для студента `/stud_kod/`:\n",
        "* *5 семестр (2013 год)* для студента с идентификатором 55 (*6 семестр 2014 года* также был дня него примерно на одном уровне сложности)\n",
        "* *2 семестр (2015 год)* для студента с идентификатором `87`\n",
        "* *2 семестр (2015 год)* для студента с идентификатором `55`\n",
        "* *2 семестр (2015 год)* и *4 семестр (2013 год)* для студента с идентификатором `70` были одинаково сложными\n",
        "* 2 семестр (2015 год) и 5 семестр (2013 год)* для студента с идентификатором `8` были одинаково сложными\n",
        "* *4 семестр (2013 год)* и *6 семестр (2014 год)* для студента с идентификатором `21` были одинаково сложными\n",
        "* *2 семестр (2015 год)* и *5 семестр (2014 год)* для студента с идентификатором `9` были одинаково сложными\n",
        "* студента с идентификатором `73` в таблице, показывающей больше 10 низко оцененных работ, не обнаружилось, соответственно, можно сделать вывод, что этот студент показывал высокие результаты на протяжении всего периода обучения"
      ]
    },
    {
      "cell_type": "markdown",
      "metadata": {
        "id": "6-QwWGNdfPIx"
      },
      "source": [
        "**Задача 3.9**: определите, можно ли провести анализ интересов отдельных (выбранных) студентов, исходя из баллов по контрольным работам. \n",
        "\n",
        "Эта информация позволит в будущем рекомендовать студентам подходящие магистерские программы."
      ]
    },
    {
      "cell_type": "code",
      "metadata": {
        "id": "dtdoVn4sfPIy"
      },
      "source": [
        "selection2 = df_works.head(5000)"
      ],
      "execution_count": null,
      "outputs": []
    },
    {
      "cell_type": "code",
      "metadata": {
        "id": "TKqwFQBxfPI1"
      },
      "source": [
        "selection2.drop(selection2.columns[[1, 4, 5, 8]], axis='columns', inplace=True)"
      ],
      "execution_count": null,
      "outputs": []
    },
    {
      "cell_type": "code",
      "metadata": {
        "id": "xv6Vh0_AfPI5"
      },
      "source": [
        "interested = selection2[selection2.ball >= 50]"
      ],
      "execution_count": null,
      "outputs": []
    },
    {
      "cell_type": "code",
      "metadata": {
        "id": "8s9i5g65fPI-",
        "outputId": "b6eed451-dd9b-4f55-aa4d-06b5d4d6744d"
      },
      "source": [
        "interested.stud_kod.value_counts()"
      ],
      "execution_count": null,
      "outputs": [
        {
          "output_type": "execute_result",
          "data": {
            "text/plain": [
              "73     14\n",
              "94      8\n",
              "119     6\n",
              "165     6\n",
              "144     6\n",
              "142     5\n",
              "93      5\n",
              "88      4\n",
              "164     4\n",
              "9       3\n",
              "21      3\n",
              "8       3\n",
              "100     3\n",
              "175     2\n",
              "154     2\n",
              "87      2\n",
              "104     1\n",
              "70      1\n",
              "140     1\n",
              "103     1\n",
              "55      1\n",
              "Name: stud_kod, dtype: int64"
            ]
          },
          "metadata": {
            "tags": []
          },
          "execution_count": 72
        }
      ]
    },
    {
      "cell_type": "markdown",
      "metadata": {
        "id": "-ovrIJqOfPJA"
      },
      "source": [
        "По аналогии с предыдущим пунктом, мы будем исследовать работы студентов, получивших 50 и более баллов за одну работу. Такая оценка может свидетельствовать о высокой заинтересованности студента в предмете."
      ]
    },
    {
      "cell_type": "code",
      "metadata": {
        "id": "oT7kAUGtfPJB"
      },
      "source": [
        "grouped = interested.groupby('stud_kod')['predmet_name', 'ball']"
      ],
      "execution_count": null,
      "outputs": []
    },
    {
      "cell_type": "markdown",
      "metadata": {
        "id": "T4fSn1qffPJF"
      },
      "source": [
        "Для начала посмотрим, чем больше всего заинтересованы первые два студента из выборки с наибольшим количеством высокооцененных работ. Кстати, это тот самый студент `73`, который не вошёл в список отстающих."
      ]
    },
    {
      "cell_type": "code",
      "metadata": {
        "id": "qza2W2iKfPJF",
        "outputId": "d97ee615-ce18-4afe-f413-e850bf2fc1a9"
      },
      "source": [
        "grouped.get_group(73)"
      ],
      "execution_count": null,
      "outputs": [
        {
          "output_type": "execute_result",
          "data": {
            "text/html": [
              "<div>\n",
              "<style scoped>\n",
              "    .dataframe tbody tr th:only-of-type {\n",
              "        vertical-align: middle;\n",
              "    }\n",
              "\n",
              "    .dataframe tbody tr th {\n",
              "        vertical-align: top;\n",
              "    }\n",
              "\n",
              "    .dataframe thead th {\n",
              "        text-align: right;\n",
              "    }\n",
              "</style>\n",
              "<table border=\"1\" class=\"dataframe\">\n",
              "  <thead>\n",
              "    <tr style=\"text-align: right;\">\n",
              "      <th></th>\n",
              "      <th>predmet_name</th>\n",
              "      <th>ball</th>\n",
              "    </tr>\n",
              "  </thead>\n",
              "  <tbody>\n",
              "    <tr>\n",
              "      <td>1225</td>\n",
              "      <td>Управленческий учет и учет персонала - 1</td>\n",
              "      <td>50.0</td>\n",
              "    </tr>\n",
              "    <tr>\n",
              "      <td>1239</td>\n",
              "      <td>Управление персоналом организации - 1</td>\n",
              "      <td>64.0</td>\n",
              "    </tr>\n",
              "    <tr>\n",
              "      <td>1253</td>\n",
              "      <td>Математические методы и модели в принятии решений</td>\n",
              "      <td>50.0</td>\n",
              "    </tr>\n",
              "    <tr>\n",
              "      <td>1255</td>\n",
              "      <td>Социология - 1</td>\n",
              "      <td>58.0</td>\n",
              "    </tr>\n",
              "    <tr>\n",
              "      <td>1274</td>\n",
              "      <td>Основы безопасности труда</td>\n",
              "      <td>50.0</td>\n",
              "    </tr>\n",
              "    <tr>\n",
              "      <td>1293</td>\n",
              "      <td>Политология</td>\n",
              "      <td>50.0</td>\n",
              "    </tr>\n",
              "    <tr>\n",
              "      <td>1295</td>\n",
              "      <td>Учебная фирма</td>\n",
              "      <td>75.0</td>\n",
              "    </tr>\n",
              "    <tr>\n",
              "      <td>1314</td>\n",
              "      <td>Адаптация персонала</td>\n",
              "      <td>50.0</td>\n",
              "    </tr>\n",
              "    <tr>\n",
              "      <td>1317</td>\n",
              "      <td>Квалификация и компетенции персонала</td>\n",
              "      <td>50.0</td>\n",
              "    </tr>\n",
              "    <tr>\n",
              "      <td>1350</td>\n",
              "      <td>Регламентация и нормирование труда</td>\n",
              "      <td>50.0</td>\n",
              "    </tr>\n",
              "    <tr>\n",
              "      <td>1353</td>\n",
              "      <td>Управление социальным развитием персонала</td>\n",
              "      <td>60.0</td>\n",
              "    </tr>\n",
              "    <tr>\n",
              "      <td>1370</td>\n",
              "      <td>Инновационный менеджмент в управлении персоналом</td>\n",
              "      <td>65.0</td>\n",
              "    </tr>\n",
              "    <tr>\n",
              "      <td>1376</td>\n",
              "      <td>Психофизиология профессиональной деятельности</td>\n",
              "      <td>50.0</td>\n",
              "    </tr>\n",
              "    <tr>\n",
              "      <td>1377</td>\n",
              "      <td>Психофизиология профессиональной деятельности</td>\n",
              "      <td>50.0</td>\n",
              "    </tr>\n",
              "  </tbody>\n",
              "</table>\n",
              "</div>"
            ],
            "text/plain": [
              "                                           predmet_name  ball\n",
              "1225           Управленческий учет и учет персонала - 1  50.0\n",
              "1239              Управление персоналом организации - 1  64.0\n",
              "1253  Математические методы и модели в принятии решений  50.0\n",
              "1255                                     Социология - 1  58.0\n",
              "1274                          Основы безопасности труда  50.0\n",
              "1293                                        Политология  50.0\n",
              "1295                                      Учебная фирма  75.0\n",
              "1314                                Адаптация персонала  50.0\n",
              "1317               Квалификация и компетенции персонала  50.0\n",
              "1350                 Регламентация и нормирование труда  50.0\n",
              "1353          Управление социальным развитием персонала  60.0\n",
              "1370   Инновационный менеджмент в управлении персоналом  65.0\n",
              "1376      Психофизиология профессиональной деятельности  50.0\n",
              "1377      Психофизиология профессиональной деятельности  50.0"
            ]
          },
          "metadata": {
            "tags": []
          },
          "execution_count": 100
        }
      ]
    },
    {
      "cell_type": "markdown",
      "metadata": {
        "id": "tySB2KD_fPJI"
      },
      "source": [
        "Студента с идентификатором `73` определённо интересует сфера **управления человеческими ресурсами**, и он показывает отличные результаты по разнообразным дисциплинам, связанным с персоналом."
      ]
    },
    {
      "cell_type": "code",
      "metadata": {
        "id": "CuSgF_XxfPJJ",
        "outputId": "222190c9-df8c-4740-ff95-c63c0069d0e7"
      },
      "source": [
        "grouped.get_group(94)"
      ],
      "execution_count": null,
      "outputs": [
        {
          "output_type": "execute_result",
          "data": {
            "text/html": [
              "<div>\n",
              "<style scoped>\n",
              "    .dataframe tbody tr th:only-of-type {\n",
              "        vertical-align: middle;\n",
              "    }\n",
              "\n",
              "    .dataframe tbody tr th {\n",
              "        vertical-align: top;\n",
              "    }\n",
              "\n",
              "    .dataframe thead th {\n",
              "        text-align: right;\n",
              "    }\n",
              "</style>\n",
              "<table border=\"1\" class=\"dataframe\">\n",
              "  <thead>\n",
              "    <tr style=\"text-align: right;\">\n",
              "      <th></th>\n",
              "      <th>predmet_name</th>\n",
              "      <th>ball</th>\n",
              "    </tr>\n",
              "  </thead>\n",
              "  <tbody>\n",
              "    <tr>\n",
              "      <td>2193</td>\n",
              "      <td>Безопасность жизнедеятельности</td>\n",
              "      <td>60.0</td>\n",
              "    </tr>\n",
              "    <tr>\n",
              "      <td>2238</td>\n",
              "      <td>Учебная практика</td>\n",
              "      <td>90.0</td>\n",
              "    </tr>\n",
              "    <tr>\n",
              "      <td>2256</td>\n",
              "      <td>Политология</td>\n",
              "      <td>67.0</td>\n",
              "    </tr>\n",
              "    <tr>\n",
              "      <td>2300</td>\n",
              "      <td>МСФО</td>\n",
              "      <td>50.0</td>\n",
              "    </tr>\n",
              "    <tr>\n",
              "      <td>2307</td>\n",
              "      <td>Бухгалтерский учет в торговле</td>\n",
              "      <td>50.0</td>\n",
              "    </tr>\n",
              "    <tr>\n",
              "      <td>2311</td>\n",
              "      <td>Бухгалтерский учет в строительных организациях</td>\n",
              "      <td>70.0</td>\n",
              "    </tr>\n",
              "    <tr>\n",
              "      <td>2315</td>\n",
              "      <td>Аудит</td>\n",
              "      <td>70.0</td>\n",
              "    </tr>\n",
              "    <tr>\n",
              "      <td>2329</td>\n",
              "      <td>Учет ВЭД</td>\n",
              "      <td>55.0</td>\n",
              "    </tr>\n",
              "  </tbody>\n",
              "</table>\n",
              "</div>"
            ],
            "text/plain": [
              "                                        predmet_name  ball\n",
              "2193                  Безопасность жизнедеятельности  60.0\n",
              "2238                                Учебная практика  90.0\n",
              "2256                                     Политология  67.0\n",
              "2300                                            МСФО  50.0\n",
              "2307                   Бухгалтерский учет в торговле  50.0\n",
              "2311  Бухгалтерский учет в строительных организациях  70.0\n",
              "2315                                           Аудит  70.0\n",
              "2329                                        Учет ВЭД  55.0"
            ]
          },
          "metadata": {
            "tags": []
          },
          "execution_count": 101
        }
      ]
    },
    {
      "cell_type": "markdown",
      "metadata": {
        "id": "inIOVt5PfPJL"
      },
      "source": [
        "А студент с идентификатором `94` двигается в сторону бухгалтеского учёта и анализа деятельности организации."
      ]
    },
    {
      "cell_type": "code",
      "metadata": {
        "id": "yU2tgrnXfPJM",
        "outputId": "5e478a46-3a8a-4426-ca7f-7d7d5ec4e479"
      },
      "source": [
        "interested.groupby(['stud_kod', 'predmet_name']).groups"
      ],
      "execution_count": null,
      "outputs": [
        {
          "output_type": "execute_result",
          "data": {
            "text/plain": [
              "{(8, 'Политология'): Int64Index([142], dtype='int64'),\n",
              " (8, 'Учебная практика'): Int64Index([124], dtype='int64'),\n",
              " (8, 'Экономическая история'): Int64Index([64], dtype='int64'),\n",
              " (9, 'Безопасность жизнедеятельности'): Int64Index([329], dtype='int64'),\n",
              " (9, 'Политология'): Int64Index([395], dtype='int64'),\n",
              " (9, 'Учебная практика'): Int64Index([374], dtype='int64'),\n",
              " (21, 'Качество управленческого труда'): Int64Index([679], dtype='int64'),\n",
              " (21, 'Учебная практика'): Int64Index([598], dtype='int64'),\n",
              " (21,\n",
              "  'Экономика социально-трудовых отношений'): Int64Index([661], dtype='int64'),\n",
              " (55, 'Учебная практика'): Int64Index([822], dtype='int64'),\n",
              " (70, 'Учебная практика'): Int64Index([1047], dtype='int64'),\n",
              " (73, 'Адаптация персонала'): Int64Index([1314], dtype='int64'),\n",
              " (73,\n",
              "  'Инновационный менеджмент в управлении персоналом'): Int64Index([1370], dtype='int64'),\n",
              " (73,\n",
              "  'Квалификация и компетенции персонала'): Int64Index([1317], dtype='int64'),\n",
              " (73,\n",
              "  'Математические методы и модели в принятии решений'): Int64Index([1253], dtype='int64'),\n",
              " (73, 'Основы безопасности труда'): Int64Index([1274], dtype='int64'),\n",
              " (73, 'Политология'): Int64Index([1293], dtype='int64'),\n",
              " (73,\n",
              "  'Психофизиология профессиональной деятельности'): Int64Index([1376, 1377], dtype='int64'),\n",
              " (73, 'Регламентация и нормирование труда'): Int64Index([1350], dtype='int64'),\n",
              " (73, 'Социология - 1'): Int64Index([1255], dtype='int64'),\n",
              " (73,\n",
              "  'Управление персоналом организации - 1'): Int64Index([1239], dtype='int64'),\n",
              " (73,\n",
              "  'Управление социальным развитием персонала'): Int64Index([1353], dtype='int64'),\n",
              " (73,\n",
              "  'Управленческий учет и учет персонала - 1'): Int64Index([1225], dtype='int64'),\n",
              " (73, 'Учебная фирма'): Int64Index([1295], dtype='int64'),\n",
              " (87, 'Политология'): Int64Index([1551], dtype='int64'),\n",
              " (87, 'Учебная практика'): Int64Index([1533], dtype='int64'),\n",
              " (88, 'Безопасность жизнедеятельности'): Int64Index([1728], dtype='int64'),\n",
              " (88,\n",
              "  'Иностранный язык (профессиональный)'): Int64Index([1730], dtype='int64'),\n",
              " (88, 'Политология'): Int64Index([1794], dtype='int64'),\n",
              " (88, 'Учебная практика'): Int64Index([1773], dtype='int64'),\n",
              " (93, 'Банковское дело'): Int64Index([2063], dtype='int64'),\n",
              " (93, 'Безопасность жизнедеятельности'): Int64Index([1954], dtype='int64'),\n",
              " (93, 'Политология'): Int64Index([2017], dtype='int64'),\n",
              " (93, 'Учебная практика'): Int64Index([1999], dtype='int64'),\n",
              " (93, 'Физическая культура'): Int64Index([1900], dtype='int64'),\n",
              " (94, 'Аудит'): Int64Index([2315], dtype='int64'),\n",
              " (94, 'Безопасность жизнедеятельности'): Int64Index([2193], dtype='int64'),\n",
              " (94,\n",
              "  'Бухгалтерский учет в строительных организациях'): Int64Index([2311], dtype='int64'),\n",
              " (94, 'Бухгалтерский учет в торговле'): Int64Index([2307], dtype='int64'),\n",
              " (94, 'МСФО'): Int64Index([2300], dtype='int64'),\n",
              " (94, 'Политология'): Int64Index([2256], dtype='int64'),\n",
              " (94, 'Учебная практика'): Int64Index([2238], dtype='int64'),\n",
              " (94, 'Учет ВЭД'): Int64Index([2329], dtype='int64'),\n",
              " (100,\n",
              "  'Информационные технологии в коммерческих банках'): Int64Index([2562], dtype='int64'),\n",
              " (100, 'Политология'): Int64Index([2476], dtype='int64'),\n",
              " (100, 'Учебная практика'): Int64Index([2458], dtype='int64'),\n",
              " (103, 'Учебная практика'): Int64Index([2707], dtype='int64'),\n",
              " (104,\n",
              "  'Учебная практика по получению первичных профессиональных умений и навыков, в том числе первичных умений и навыков научно-исследовательской деятельности'): Int64Index([2994], dtype='int64'),\n",
              " (119, 'Аудит'): Int64Index([3304], dtype='int64'),\n",
              " (119, 'Безопасность жизнедеятельности'): Int64Index([3182], dtype='int64'),\n",
              " (119,\n",
              "  'Бухгалтерский учет в строительных организациях'): Int64Index([3300], dtype='int64'),\n",
              " (119, 'Бухгалтерский учет в торговле'): Int64Index([3296], dtype='int64'),\n",
              " (119, 'МСФО'): Int64Index([3289], dtype='int64'),\n",
              " (119, 'Учебная практика'): Int64Index([3227], dtype='int64'),\n",
              " (140, 'Учебная практика'): Int64Index([3450], dtype='int64'),\n",
              " (142, 'Аудит'): Int64Index([3779], dtype='int64'),\n",
              " (142,\n",
              "  'Бухгалтерский учет в строительных организациях'): Int64Index([3775], dtype='int64'),\n",
              " (142, 'МСФО'): Int64Index([3764], dtype='int64'),\n",
              " (142, 'Учебная практика'): Int64Index([3702], dtype='int64'),\n",
              " (142, 'Учет ВЭД'): Int64Index([3793], dtype='int64'),\n",
              " (144, 'Аудит'): Int64Index([3999], dtype='int64'),\n",
              " (144, 'Безопасность жизнедеятельности'): Int64Index([3877], dtype='int64'),\n",
              " (144,\n",
              "  'Бухгалтерский учет в строительных организациях'): Int64Index([3995], dtype='int64'),\n",
              " (144,\n",
              "  'Иностранный язык (профессиональный)'): Int64Index([3879], dtype='int64'),\n",
              " (144, 'Учебная практика'): Int64Index([3922], dtype='int64'),\n",
              " (144, 'Учет ВЭД'): Int64Index([4013], dtype='int64'),\n",
              " (154, 'Безопасность жизнедеятельности'): Int64Index([4099], dtype='int64'),\n",
              " (154, 'Учебная практика'): Int64Index([4144], dtype='int64'),\n",
              " (164, 'Безопасность жизнедеятельности'): Int64Index([4324], dtype='int64'),\n",
              " (164,\n",
              "  'Международные аквизиции и финансовые стратегии'): Int64Index([4449], dtype='int64'),\n",
              " (164, 'Политология'): Int64Index([4390], dtype='int64'),\n",
              " (164, 'Учебная практика'): Int64Index([4369], dtype='int64'),\n",
              " (165, 'Аудит'): Int64Index([4673], dtype='int64'),\n",
              " (165,\n",
              "  'Бухгалтерский учет в строительных организациях'): Int64Index([4669], dtype='int64'),\n",
              " (165, 'Бухгалтерский учет в торговле'): Int64Index([4665], dtype='int64'),\n",
              " (165, 'Политология'): Int64Index([4614], dtype='int64'),\n",
              " (165, 'Учебная практика'): Int64Index([4596], dtype='int64'),\n",
              " (165, 'Учет ВЭД'): Int64Index([4687], dtype='int64'),\n",
              " (175, 'Безопасность жизнедеятельности'): Int64Index([4771], dtype='int64'),\n",
              " (175, 'Учебная практика'): Int64Index([4816], dtype='int64')}"
            ]
          },
          "metadata": {
            "tags": []
          },
          "execution_count": 107
        }
      ]
    },
    {
      "cell_type": "markdown",
      "metadata": {
        "id": "O9LaLTlnfPJO"
      },
      "source": [
        "Данная сводка по всем студентам из выборки показывает, что большинство студентов заинтересованы в финансовых дисциплинах. Для таких студентов можно рекомендовать программы магистратуры, готовящие квалифицированных специалистов в области *бухгалтерского учета, прикладного экономического анализа* и *аудита*."
      ]
    },
    {
      "cell_type": "markdown",
      "metadata": {
        "id": "rReeAiZefPJO"
      },
      "source": [
        "**Задача 3.10**: Предложите решение, каким образом по представленным данным отследить динамику успеваемости отдельных (выбранных) студентов?"
      ]
    },
    {
      "cell_type": "code",
      "metadata": {
        "id": "6ZFldLgkfPJP"
      },
      "source": [
        "selection3 = df_works.head(2000)"
      ],
      "execution_count": null,
      "outputs": []
    },
    {
      "cell_type": "code",
      "metadata": {
        "id": "apEy-bPMfPJR",
        "outputId": "d9396d93-5ec8-44c9-9c4c-3e56fb7e47e8"
      },
      "source": [
        "selection3.stud_kod.value_counts()"
      ],
      "execution_count": null,
      "outputs": [
        {
          "output_type": "execute_result",
          "data": {
            "text/plain": [
              "73    258\n",
              "8     250\n",
              "87    240\n",
              "70    228\n",
              "88    226\n",
              "9     225\n",
              "55    224\n",
              "21    224\n",
              "93    125\n",
              "Name: stud_kod, dtype: int64"
            ]
          },
          "metadata": {
            "tags": []
          },
          "execution_count": 165
        }
      ]
    },
    {
      "cell_type": "code",
      "metadata": {
        "id": "okNF4AsZfPJT"
      },
      "source": [
        "selection3.drop(selection3.columns[[1, 2, 4, 5, 6, 7, 8]], axis='columns', inplace=True)"
      ],
      "execution_count": null,
      "outputs": []
    },
    {
      "cell_type": "code",
      "metadata": {
        "id": "GZGEA2h-fPJW",
        "outputId": "d549607f-e653-485b-f084-89639eefad0a"
      },
      "source": [
        "selection3.head()"
      ],
      "execution_count": null,
      "outputs": [
        {
          "output_type": "execute_result",
          "data": {
            "text/html": [
              "<div>\n",
              "<style scoped>\n",
              "    .dataframe tbody tr th:only-of-type {\n",
              "        vertical-align: middle;\n",
              "    }\n",
              "\n",
              "    .dataframe tbody tr th {\n",
              "        vertical-align: top;\n",
              "    }\n",
              "\n",
              "    .dataframe thead th {\n",
              "        text-align: right;\n",
              "    }\n",
              "</style>\n",
              "<table border=\"1\" class=\"dataframe\">\n",
              "  <thead>\n",
              "    <tr style=\"text-align: right;\">\n",
              "      <th></th>\n",
              "      <th>stud_kod</th>\n",
              "      <th>ball</th>\n",
              "      <th>year</th>\n",
              "    </tr>\n",
              "  </thead>\n",
              "  <tbody>\n",
              "    <tr>\n",
              "      <td>0</td>\n",
              "      <td>8</td>\n",
              "      <td>25.0</td>\n",
              "      <td>11</td>\n",
              "    </tr>\n",
              "    <tr>\n",
              "      <td>1</td>\n",
              "      <td>8</td>\n",
              "      <td>30.0</td>\n",
              "      <td>11</td>\n",
              "    </tr>\n",
              "    <tr>\n",
              "      <td>2</td>\n",
              "      <td>8</td>\n",
              "      <td>45.0</td>\n",
              "      <td>NaN</td>\n",
              "    </tr>\n",
              "    <tr>\n",
              "      <td>3</td>\n",
              "      <td>8</td>\n",
              "      <td>15.0</td>\n",
              "      <td>15</td>\n",
              "    </tr>\n",
              "    <tr>\n",
              "      <td>4</td>\n",
              "      <td>8</td>\n",
              "      <td>18.0</td>\n",
              "      <td>15</td>\n",
              "    </tr>\n",
              "  </tbody>\n",
              "</table>\n",
              "</div>"
            ],
            "text/plain": [
              "   stud_kod  ball year\n",
              "0         8  25.0   11\n",
              "1         8  30.0   11\n",
              "2         8  45.0  NaN\n",
              "3         8  15.0   15\n",
              "4         8  18.0   15"
            ]
          },
          "metadata": {
            "tags": []
          },
          "execution_count": 179
        }
      ]
    },
    {
      "cell_type": "code",
      "metadata": {
        "id": "4_Hkyog-fPJe"
      },
      "source": [
        "progress = selection3.groupby(['year', 'stud_kod'])['ball'].sum()"
      ],
      "execution_count": null,
      "outputs": []
    },
    {
      "cell_type": "code",
      "metadata": {
        "id": "b6VsWzjsfPJj",
        "outputId": "2a656cca-8c4e-4e46-bcba-863294c3c389"
      },
      "source": [
        "progress"
      ],
      "execution_count": null,
      "outputs": [
        {
          "output_type": "execute_result",
          "data": {
            "text/plain": [
              "year  stud_kod\n",
              "11    8            214.000\n",
              "      9            223.000\n",
              "      21           147.000\n",
              "      55           216.000\n",
              "      70           205.000\n",
              "      73           472.000\n",
              "      87           130.000\n",
              "      88           184.000\n",
              "      93           225.000\n",
              "12    8            911.620\n",
              "      9            765.450\n",
              "      21           664.200\n",
              "      55           603.650\n",
              "      70           756.090\n",
              "      73          1409.510\n",
              "      87           779.530\n",
              "      88           991.580\n",
              "      93           696.860\n",
              "13    8           1461.640\n",
              "      9           1088.550\n",
              "      21          1052.380\n",
              "      55           979.510\n",
              "      70          1139.910\n",
              "      73          1942.500\n",
              "      87          1205.490\n",
              "      88          1233.565\n",
              "      93           912.850\n",
              "14    8            764.500\n",
              "      9           1146.000\n",
              "      21           998.330\n",
              "      55           763.500\n",
              "      70           785.800\n",
              "      73          1858.500\n",
              "      87          1054.400\n",
              "      88          1334.000\n",
              "15    8           1400.768\n",
              "      9           1262.060\n",
              "      21          1148.622\n",
              "      55          1135.704\n",
              "      70          1198.524\n",
              "      73          1091.900\n",
              "      87          1282.152\n",
              "      88          1420.584\n",
              "      93           644.582\n",
              "16    21           141.900\n",
              "Name: ball, dtype: float64"
            ]
          },
          "metadata": {
            "tags": []
          },
          "execution_count": 169
        }
      ]
    },
    {
      "cell_type": "code",
      "metadata": {
        "id": "PDR2BHcTfPJl",
        "outputId": "79136032-8f3d-4b57-eae3-dc6e6ec62167"
      },
      "source": [
        "import matplotlib.pyplot as plt\n",
        "fig, axs = plt.subplots(figsize=(12, 5)); \n",
        "progress.unstack().plot(ax=axs, title='Динамика успеваемости студентов'); \n",
        "axs.set_ylabel(\"Суммарные оценки студентов\")"
      ],
      "execution_count": null,
      "outputs": [
        {
          "output_type": "execute_result",
          "data": {
            "text/plain": [
              "Text(0, 0.5, 'Суммарные оценки студентов')"
            ]
          },
          "metadata": {
            "tags": []
          },
          "execution_count": 178
        },
        {
          "output_type": "display_data",
          "data": {
            "image/png": "[encoded data removed]",
            "text/plain": [
              "<Figure size 864x360 with 1 Axes>"
            ]
          },
          "metadata": {
            "tags": [],
            "needs_background": "light"
          }
        }
      ]
    },
    {
      "cell_type": "markdown",
      "metadata": {
        "id": "st4-gzKOfPJn"
      },
      "source": [
        "На данном графике хорошо отслеживается успеваемость студентов. Некоторые даже двигаются в одном направлении (`8`, `70`, `55` и `88`, `9`, `21`). Знакомый нам студент `73` больше всего занимался учёбой первые 2 года, поднимая свою успеваемость, а с 2013 года немного подзабросил её. Успеваемость большинства студентов из выборки демонстрирует положительный тренд."
      ]
    }
  ]
}