{
  "cells": [
    {
      "cell_type": "markdown",
      "metadata": {
        "id": "lJhDvULhto_v"
      },
      "source": [
        "### 1. Статистика посещаемости группы"
      ]
    },
    {
      "cell_type": "code",
      "execution_count": null,
      "metadata": {
        "id": "Sfs6zY4Hto_7",
        "outputId": "7644bc78-1b58-4603-9cc6-aeab73eb5ea9"
      },
      "outputs": [
        {
          "name": "stdout",
          "output_type": "stream",
          "text": [
            "['15.03.2020', 'views', '', '', '1']\n"
          ]
        }
      ],
      "source": [
        "import csv\n",
        "with open('vk_group.csv', encoding='utf8') as file:\n",
        "    stat = csv.reader(file)\n",
        "    for line in stat:\n",
        "        if line[0] == 'Дата':\n",
        "            continue\n",
        "        else:\n",
        "            print(line)\n",
        "        break"
      ]
    },
    {
      "cell_type": "code",
      "execution_count": null,
      "metadata": {
        "id": "ZaGfJ2PStpAB",
        "outputId": "ad8ade38-e75b-4f44-8aac-73c580b29d40"
      },
      "outputs": [
        {
          "name": "stdout",
          "output_type": "stream",
          "text": [
            "598\n"
          ]
        }
      ],
      "source": [
        "import csv\n",
        "lst = []\n",
        "with open('vk_group.csv', encoding='utf8') as file:\n",
        "    stat = csv.reader(file)\n",
        "    for line in stat:\n",
        "        if line[0] == 'Дата':\n",
        "            continue\n",
        "        elif ('2016' in line[0] and 'views' in line[1]):\n",
        "            #print(line[0][-4:])\n",
        "            #print(line[4].strip())\n",
        "            for i in line[4]:\n",
        "                lst.append(int(i.strip()))\n",
        "print(sum(lst))"
      ]
    },
    {
      "cell_type": "code",
      "execution_count": null,
      "metadata": {
        "id": "RJ9OmY7-tpAE",
        "outputId": "bc5b5047-2867-4e6e-c61e-5d32a534c8e5"
      },
      "outputs": [
        {
          "name": "stdout",
          "output_type": "stream",
          "text": [
            "610\n"
          ]
        }
      ],
      "source": [
        "with open('vk_group.csv', encoding='utf8') as file:\n",
        "    stat = csv.reader(file)\n",
        "    for line in stat:\n",
        "        if line[0] == 'Дата':\n",
        "            continue\n",
        "        else:\n",
        "            visitors16 = [int(line[4]) for line in stat if (line[1] == 'visitors' and '2016' in line[0])]\n",
        "print(sum(visitors16))\n",
        "                #visitors[int(line[0][-4:])] = int(line[4])     "
      ]
    },
    {
      "cell_type": "code",
      "execution_count": null,
      "metadata": {
        "id": "BcZxERD8tpAF",
        "outputId": "ddf0aac8-0eee-4167-f60e-4488ebf20f06"
      },
      "outputs": [
        {
          "name": "stdout",
          "output_type": "stream",
          "text": [
            "841\n"
          ]
        }
      ],
      "source": [
        "import csv\n",
        "years = [2016, 2017, 2018, 2019, 2020]\n",
        "with open('vk_group.csv', encoding='utf8') as file:\n",
        "    stat = csv.reader(file)\n",
        "    views16 = [int(line[4]) for line in stat if (line[1] == 'views' and '2016' in line[0])]\n",
        "print(sum(views16))"
      ]
    },
    {
      "cell_type": "code",
      "execution_count": null,
      "metadata": {
        "id": "LMVjecy7tpAH",
        "outputId": "519e52b2-6f59-4334-d01a-b14addead06e"
      },
      "outputs": [
        {
          "name": "stdout",
          "output_type": "stream",
          "text": [
            "{'2020': 309, '2019': 1896, '2018': 733, '2017': 1132, '2016': 841}\n"
          ]
        }
      ],
      "source": [
        "views = dict()\n",
        "visitors = dict()\n",
        "with open('vk_group.csv', encoding='utf8') as file:\n",
        "    stat = csv.reader(file)\n",
        "    for line in stat:\n",
        "        if line[1] == 'views':\n",
        "            if line[0][-4:] not in views:\n",
        "                views[line[0][-4:]] = int(line[4])\n",
        "            else:\n",
        "                views[line[0][-4:]] += int(line[4])\n",
        "print(views)"
      ]
    },
    {
      "cell_type": "code",
      "execution_count": null,
      "metadata": {
        "id": "6B6U42_5tpAI",
        "outputId": "5102c9cb-a2be-4e5a-9cd9-ca202e4e3494"
      },
      "outputs": [
        {
          "name": "stdout",
          "output_type": "stream",
          "text": [
            "{'2020': 309, '2019': 1896, '2018': 733, '2017': 1132, '2016': 841}\n",
            "{'2020': 204, '2019': 1057, '2018': 535, '2017': 823, '2016': 610}\n"
          ]
        }
      ],
      "source": [
        "views = dict()\n",
        "visitors = dict()\n",
        "with open('vk_group.csv', encoding='utf8') as file:\n",
        "    stat = csv.reader(file)\n",
        "    for line in stat:\n",
        "        if line[1] == 'views':\n",
        "            if line[0][-4:] not in views:\n",
        "                views[line[0][-4:]] = int(line[4])\n",
        "            else:\n",
        "                views[line[0][-4:]] += int(line[4])\n",
        "        if line[1] == 'visitors':\n",
        "            if line[0][-4:] not in visitors:\n",
        "                visitors[line[0][-4:]] = int(line[4])\n",
        "            else:\n",
        "                visitors[line[0][-4:]] += int(line[4])\n",
        "print(views)\n",
        "print(visitors)"
      ]
    },
    {
      "cell_type": "code",
      "execution_count": null,
      "metadata": {
        "id": "UAS01kWctpAK",
        "outputId": "5346dc7a-bb0f-4b60-8fd0-40355e629d69"
      },
      "outputs": [
        {
          "name": "stdout",
          "output_type": "stream",
          "text": [
            "dict_items([('2020', 309), ('2019', 1896), ('2018', 733), ('2017', 1132), ('2016', 841)])\n"
          ]
        }
      ],
      "source": [
        "x = views.items()\n",
        "print(x)"
      ]
    },
    {
      "cell_type": "markdown",
      "metadata": {
        "id": "jw2256GHtpAP"
      },
      "source": [
        "*Превращаю словарь в список и сортирую его в порядке возрастания по годам.*"
      ]
    },
    {
      "cell_type": "code",
      "execution_count": null,
      "metadata": {
        "id": "MnXtiY67tpAQ",
        "outputId": "35b971e4-7170-49ea-b040-67ac6563a30c"
      },
      "outputs": [
        {
          "name": "stdout",
          "output_type": "stream",
          "text": [
            "[('2016', 841), ('2017', 1132), ('2018', 733), ('2019', 1896), ('2020', 309)]\n"
          ]
        }
      ],
      "source": [
        "sorted_views = sorted(x, reverse=False)\n",
        "print(sorted_views)"
      ]
    },
    {
      "cell_type": "code",
      "execution_count": null,
      "metadata": {
        "id": "wr3Kh3q7tpAR",
        "outputId": "a511f8a8-b7e5-428e-81bc-ec78e7b9c427"
      },
      "outputs": [
        {
          "name": "stdout",
          "output_type": "stream",
          "text": [
            "[('2016', 610), ('2017', 823), ('2018', 535), ('2019', 1057), ('2020', 204)]\n"
          ]
        }
      ],
      "source": [
        "y = visitors.items()\n",
        "sorted_visitors = sorted(y, reverse=False)\n",
        "print(sorted_visitors)"
      ]
    },
    {
      "cell_type": "code",
      "execution_count": null,
      "metadata": {
        "id": "pfUkT_v_tpAT",
        "outputId": "ae4ff86c-3763-4113-84a6-d2468f79bf27"
      },
      "outputs": [
        {
          "name": "stdout",
          "output_type": "stream",
          "text": [
            "dict_keys(['2016', '2017', '2018', '2019', '2020'])\n"
          ]
        }
      ],
      "source": [
        "x = views.items()\n",
        "sorted_views = dict(sorted(x, reverse=False))\n",
        "print(sorted_views.keys())"
      ]
    },
    {
      "cell_type": "code",
      "execution_count": null,
      "metadata": {
        "id": "Jb3mbTgStpAT",
        "outputId": "d5cc660c-eb36-40e8-b1a6-fed8a362a376"
      },
      "outputs": [
        {
          "name": "stdout",
          "output_type": "stream",
          "text": [
            "dict_values([610, 823, 535, 1057, 204])\n"
          ]
        }
      ],
      "source": [
        "sorted_visitors = dict(sorted(y, reverse=False))\n",
        "print(sorted_visitors.values())"
      ]
    },
    {
      "cell_type": "code",
      "execution_count": null,
      "metadata": {
        "id": "GnwCZcJFtpAU",
        "outputId": "4a164fad-368d-4d84-9003-b2bf6e9eb12d"
      },
      "outputs": [
        {
          "data": {
            "image/png": "[encoded data removed]",
            "text/plain": [
              "<Figure size 432x288 with 1 Axes>"
            ]
          },
          "metadata": {
            "needs_background": "light"
          },
          "output_type": "display_data"
        }
      ],
      "source": [
        "%matplotlib inline\n",
        "import matplotlib.pyplot as plt\n",
        "plt.plot(list(sorted_views.keys()), list(sorted_views.values()), list(sorted_visitors.keys()), list(sorted_visitors.values()))\n",
        "plt.title('Статистика посещаемости группы', fontsize=16);\n",
        "plt.show()"
      ]
    },
    {
      "cell_type": "markdown",
      "metadata": {
        "id": "KhRh3jF9tpAV"
      },
      "source": [
        "#### Вывод:\n",
        "Проведённый анализ показал, что отношение количества просмотров *(синяя кривая)* контента в группе к количеству уникальных посетителей *(оранжевая кривая)* равняется $ \\approx \\frac{3}{2} $, в частности, данное соотношение можно отследить на графике. Насчёт динамики посещаемости за период с 2016 по 2020 годы стоит сказать, что в группе наблюдается **тренд снижения** данного уровня, но такой вывод получился лишь из-за того, что данные собраны только на **начало** 2020 года. Для полноценного анализа необходимо провести те же операции, имея данные на **конец** 2020 года.\n",
        "\n",
        "Пока что пик популярности группы приходится на **2019** год."
      ]
    },
    {
      "cell_type": "markdown",
      "metadata": {
        "id": "5nrd-n9htpAW"
      },
      "source": [
        "### 2. Анализ охвата аудитории"
      ]
    },
    {
      "cell_type": "markdown",
      "metadata": {
        "id": "qNSKJ0VotpAW"
      },
      "source": [
        "*Провожу аналогичные действия, анализируя охват по годам.*"
      ]
    },
    {
      "cell_type": "code",
      "execution_count": null,
      "metadata": {
        "id": "6N3g1HJ-tpAX",
        "outputId": "05e6908d-d3f0-4e32-bd39-5423f754d57d"
      },
      "outputs": [
        {
          "name": "stdout",
          "output_type": "stream",
          "text": [
            "{'2020': 491, '2019': 4000, '2018': 475, '2017': 733, '2016': 555}\n"
          ]
        }
      ],
      "source": [
        "reach = dict()\n",
        "reach_subscribers = dict()\n",
        "with open('vk_group.csv', encoding='utf8') as file:\n",
        "    stat = csv.reader(file)\n",
        "    for line in stat:\n",
        "        if line[1] == 'reach':\n",
        "            if line[0][-4:] not in reach:\n",
        "                reach[line[0][-4:]] = int(line[4])\n",
        "            else:\n",
        "                reach[line[0][-4:]] += int(line[4])\n",
        "        if line[1] == 'reach_subscribers':\n",
        "            if line[0][-4:] not in reach_subscribers:\n",
        "                reach_subscribers[line[0][-4:]] = int(line[4])\n",
        "            else:\n",
        "                reach_subscribers[line[0][-4:]] += int(line[4])\n",
        "print(reach)"
      ]
    },
    {
      "cell_type": "code",
      "execution_count": null,
      "metadata": {
        "id": "UODkxpuptpAY"
      },
      "outputs": [],
      "source": [
        "r = reach.items()\n",
        "sorted_reach = dict(sorted(r, reverse=False))\n",
        "z = reach_subscribers.items()\n",
        "sorted_reach_subscribers = dict(sorted(z, reverse=False))"
      ]
    },
    {
      "cell_type": "code",
      "execution_count": null,
      "metadata": {
        "id": "7pSQ4FmftpAZ",
        "outputId": "50c544aa-d731-4697-fa74-ff786af77a64"
      },
      "outputs": [
        {
          "data": {
            "image/png": "[encoded data removed]",
            "text/plain": [
              "<Figure size 432x288 with 1 Axes>"
            ]
          },
          "metadata": {
            "needs_background": "light"
          },
          "output_type": "display_data"
        }
      ],
      "source": [
        "%matplotlib inline\n",
        "import matplotlib.pyplot as plt\n",
        "plt.plot(list(sorted_reach.keys()), list(sorted_reach.values()), list(sorted_reach_subscribers.keys()), list(sorted_reach_subscribers.values()))\n",
        "plt.title('Динамика полного охвата и охвата подписчиков', fontsize=12);\n",
        "plt.show()"
      ]
    },
    {
      "cell_type": "markdown",
      "metadata": {
        "id": "dC-YJtPstpAZ"
      },
      "source": [
        "#### Вывод:\n",
        "По графику видно, что количество подписчиков, просматривающих записи сообщества, на 2020 год **увеличилось** по сравнению с началом исследуемого периода. Охват за 2019 год кардинально отличается от среднего охвата других лет: такой разброс можно объяснить *сбоем в сборе статистики* за этот год. Факт того, что получившееся число в 2019 году в несколько раз больше *статистики посещаемости группы* за тот же год, также свидетельствует об ошибке в данных. \n",
        "\n",
        "Если считать, что в 2019 году охват был больше 500 и меньше 1000, основываясь на других годах, то можно заключить, что динамика как полного охвата, так и охвата только подписчиков, отличается **стабильностью** и **небольшим приростом**."
      ]
    },
    {
      "cell_type": "markdown",
      "metadata": {
        "id": "se2hHdurtpAZ"
      },
      "source": [
        "### 3. Анализ демографии"
      ]
    },
    {
      "cell_type": "markdown",
      "metadata": {
        "id": "O130sfdotpAa"
      },
      "source": [
        "#### 3.1. Анализ пола посетителей"
      ]
    },
    {
      "cell_type": "code",
      "execution_count": null,
      "metadata": {
        "id": "IOjYxQvMtpAa"
      },
      "outputs": [],
      "source": [
        "import csv\n",
        "gender = dict()\n",
        "with open('vk_group.csv', encoding='utf8') as file:\n",
        "    stat = csv.reader(file)\n",
        "    for line in stat:\n",
        "        if line[1] == 'gender':\n",
        "            if line[2] not in gender:\n",
        "                gender[line[2]] = int(line[4])\n",
        "            else:\n",
        "                gender[line[2]] += int(line[4])"
      ]
    },
    {
      "cell_type": "code",
      "execution_count": null,
      "metadata": {
        "id": "JSfQm6NutpAc",
        "outputId": "62a162e4-9fa9-4eb6-ab60-1182d0d7d22e"
      },
      "outputs": [
        {
          "name": "stdout",
          "output_type": "stream",
          "text": [
            "{'М': 1888, 'Ж': 965}\n"
          ]
        }
      ],
      "source": [
        "print(gender)"
      ]
    },
    {
      "cell_type": "code",
      "execution_count": null,
      "metadata": {
        "id": "ur2wGBwwtpAd",
        "outputId": "bb94f773-905f-464f-c018-b277526407c9"
      },
      "outputs": [
        {
          "name": "stdout",
          "output_type": "stream",
          "text": [
            "{'30-35': 299, '24-27': 277, '27-30': 160, '35-45': 141, '1-18': 82, '21-24': 546, '18-21': 852, '45+': 198}\n"
          ]
        }
      ],
      "source": [
        "import csv\n",
        "age = dict()\n",
        "with open('vk_group.csv', encoding='utf8') as file:\n",
        "    stat = csv.reader(file)\n",
        "    for line in stat:\n",
        "        if line[1] == 'age':\n",
        "            if line[2] not in age:\n",
        "                age[line[2]] = int(line[4])\n",
        "            else:\n",
        "                age[line[2]] += int(line[4])\n",
        "print(age)"
      ]
    },
    {
      "cell_type": "code",
      "execution_count": null,
      "metadata": {
        "id": "SCLuzYSYtpAf",
        "outputId": "77f54778-b9ac-4b90-cd65-af1e5b7f6257"
      },
      "outputs": [
        {
          "name": "stdout",
          "output_type": "stream",
          "text": [
            "{'30-35': 598, '24-27': 554, '27-30': 320, '35-45': 282, '1-18': 164, '21-24': 1092, '18-21': 1704, '45+': 396}\n"
          ]
        }
      ],
      "source": [
        "import csv\n",
        "age = dict()\n",
        "with open('vk_group.csv', encoding='utf8') as file:\n",
        "    stat = csv.reader(file)\n",
        "    for line in stat:\n",
        "        if line[1] == 'age':\n",
        "            if line[2] not in age:\n",
        "                age[line[2]] = int(line[4])\n",
        "            else:\n",
        "                age[line[2]] += int(line[4])\n",
        "        if line[1] == 'gender_age':\n",
        "            if line[3] not in age:\n",
        "                age[line[3]] = int(line[4])\n",
        "            else:\n",
        "                age[line[3]] += int(line[4])\n",
        "print(age)"
      ]
    },
    {
      "cell_type": "code",
      "execution_count": null,
      "metadata": {
        "id": "nJGKblp_tpAf"
      },
      "outputs": [],
      "source": [
        "import csv\n",
        "gender = dict()\n",
        "age = dict()\n",
        "countries = dict()\n",
        "with open('vk_group.csv', encoding='utf8') as file:\n",
        "    stat = csv.reader(file)\n",
        "    for line in stat:\n",
        "        if line[1] == 'gender':\n",
        "            if line[2] not in gender:\n",
        "                gender[line[2]] = int(line[4])\n",
        "            else:\n",
        "                gender[line[2]] += int(line[4])\n",
        "        if line[1] == 'age':\n",
        "            if line[2] not in age:\n",
        "                age[line[2]] = int(line[4])\n",
        "            else:\n",
        "                age[line[2]] += int(line[4])\n",
        "        if line[1] == 'gender_age':\n",
        "            if line[3] not in age:\n",
        "                age[line[3]] = int(line[4])\n",
        "            else:\n",
        "                age[line[3]] += int(line[4])\n",
        "        if line[1] == 'countries':\n",
        "            if line[2] not in countries:\n",
        "                countries[line[2]] = int(line[4])\n",
        "            else:\n",
        "                countries[line[2]] += int(line[4])"
      ]
    },
    {
      "cell_type": "code",
      "execution_count": null,
      "metadata": {
        "id": "LltehMc4tpAg",
        "outputId": "4682a1ff-e7b1-489b-e66f-18287fbe5500"
      },
      "outputs": [
        {
          "data": {
            "image/png": "[encoded data removed]",
            "text/plain": [
              "<Figure size 432x288 with 1 Axes>"
            ]
          },
          "metadata": {},
          "output_type": "display_data"
        }
      ],
      "source": [
        "import matplotlib.pyplot as plt\n",
        "%matplotlib inline\n",
        "labels = gender.keys()\n",
        "values = gender.values()\n",
        "plt.title('Распределение посетителей по полу', fontsize=14);\n",
        "plt.pie(values, labels=labels, autopct='%1.1f%%')\n",
        "plt.show()"
      ]
    },
    {
      "cell_type": "markdown",
      "metadata": {
        "id": "m1dP0Gh9tpAg"
      },
      "source": [
        "##### Вывод:\n",
        "Основная аудитория сообщества – представители *мужского* пола. *Женщины* составляют $ \\approx \\frac{1}{3} $ всех пользователей."
      ]
    },
    {
      "cell_type": "markdown",
      "metadata": {
        "id": "wwaMqdZ0tpAg"
      },
      "source": [
        "#### 3.2. Анализ возраста посетителей"
      ]
    },
    {
      "cell_type": "code",
      "execution_count": null,
      "metadata": {
        "id": "fnxPyBDhtpAh",
        "outputId": "097fa497-6953-4992-bc18-22dd95d38f7a"
      },
      "outputs": [
        {
          "name": "stdout",
          "output_type": "stream",
          "text": [
            "[('30-35', 598), ('24-27', 554), ('27-30', 320), ('35-45', 282), ('1-18', 164), ('21-24', 1092), ('18-21', 1704), ('45+', 396)]\n"
          ]
        }
      ],
      "source": [
        "a = list(age.items())\n",
        "print(a)"
      ]
    },
    {
      "cell_type": "code",
      "execution_count": null,
      "metadata": {
        "id": "sOURK7krtpAh",
        "outputId": "33d81193-bc6c-4e42-9d7e-db767388c6c8"
      },
      "outputs": [
        {
          "name": "stdout",
          "output_type": "stream",
          "text": [
            "[('1-18', 164), ('24-27', 554), ('27-30', 320), ('35-45', 282), ('30-35', 598), ('21-24', 1092), ('18-21', 1704), ('45+', 396)]\n"
          ]
        }
      ],
      "source": [
        "a[-4], a[0] = a[0], a[-4]\n",
        "print(a)"
      ]
    },
    {
      "cell_type": "code",
      "execution_count": null,
      "metadata": {
        "id": "_NrNQt8UtpAh",
        "outputId": "b8f35a99-cd75-435c-f374-d8a5a7b1fe9d"
      },
      "outputs": [
        {
          "name": "stdout",
          "output_type": "stream",
          "text": [
            "[('1-18', 164), ('18-21', 1704), ('27-30', 320), ('35-45', 282), ('30-35', 598), ('21-24', 1092), ('24-27', 554), ('45+', 396)]\n"
          ]
        }
      ],
      "source": [
        "a[-2], a[1] = a[1], a[-2]\n",
        "print(a)"
      ]
    },
    {
      "cell_type": "code",
      "execution_count": null,
      "metadata": {
        "id": "J6DT7eDLtpAh",
        "outputId": "9c8cf7d9-35ad-4a96-fa21-cc339c2481b9"
      },
      "outputs": [
        {
          "name": "stdout",
          "output_type": "stream",
          "text": [
            "[('1-18', 164), ('18-21', 1704), ('27-30', 320), ('35-45', 282), ('21-24', 1092), ('30-35', 598), ('24-27', 554), ('45+', 396)]\n"
          ]
        }
      ],
      "source": [
        "a[5], a[4] = a[4], a[5]\n",
        "print(a)"
      ]
    },
    {
      "cell_type": "code",
      "execution_count": null,
      "metadata": {
        "id": "Qj-i-hentpAi"
      },
      "outputs": [],
      "source": [
        "sorted_age = dict(a)"
      ]
    },
    {
      "cell_type": "code",
      "execution_count": null,
      "metadata": {
        "id": "r0kro32KtpAj",
        "outputId": "7ca74c64-8b5d-41bc-fc55-e3240efa5c3c"
      },
      "outputs": [
        {
          "data": {
            "image/png": "[encoded data removed]",
            "text/plain": [
              "<Figure size 432x288 with 1 Axes>"
            ]
          },
          "metadata": {
            "needs_background": "light"
          },
          "output_type": "display_data"
        }
      ],
      "source": [
        "import matplotlib.pyplot as plt\n",
        "%matplotlib inline\n",
        "plt.bar(sorted_age.keys(), sorted_age.values(), color='red')\n",
        "plt.title('Распределение посетителей по возрасту', fontsize=14);\n",
        "plt.show()"
      ]
    },
    {
      "cell_type": "markdown",
      "metadata": {
        "id": "8yj_ymd9tpAj"
      },
      "source": [
        "##### Вывод:\n",
        "По графику видно, что основная масса посетителей сообщества относится к двум возрастным категориям:\n",
        "* 18-21 лет\n",
        "* 21-24 лет \n",
        "\n",
        "Такое распределение свидетельствует о том, что материалы сообщества могут быть очень популярны у **студентов**."
      ]
    },
    {
      "cell_type": "markdown",
      "metadata": {
        "id": "ZNJG4wWVtpAk"
      },
      "source": [
        "#### 3.3. Анализ стран проживания посетителей"
      ]
    },
    {
      "cell_type": "code",
      "execution_count": null,
      "metadata": {
        "id": "Tzhr_yO7tpAk",
        "outputId": "0c1d4af8-b378-4ddb-d245-be75746af2d4"
      },
      "outputs": [
        {
          "name": "stdout",
          "output_type": "stream",
          "text": [
            "[('Россия', 2888), ('Германия', 11), ('Франция', 11), ('Индонезия', 3), ('США', 59), ('Китай', 2), ('Южная Корея', 3), ('Мексика', 1), ('Таиланд', 6), ('Великобритания', 7), ('Беларусь', 29), ('Венгрия', 1), ('Сингапур', 3), ('Малайзия', 2), ('Казахстан', 52), ('Канада', 2), ('Финляндия', 2), ('Украина', 67), ('Вьетнам', 2), ('Азербайджан', 4), ('Нидерланды', 6), ('Польша', 3), ('Швеция', 3), ('Босния и Герцеговина', 1), ('Молдова', 7), ('Узбекистан', 2), ('', 21), ('Испания', 4), ('Армения', 5), ('Швейцария', 1), ('Пакистан', 1), ('Бразилия', 1), ('Кыргызстан', 5), ('Таджикистан', 1), ('Япония', 2), ('Дания', 1), ('Израиль', 3), ('Эстония', 1), ('Тайвань', 1), ('Италия', 1), ('Ирландия', 1), ('Турция', 2), ('Латвия', 1)]\n"
          ]
        }
      ],
      "source": [
        "c = list(countries.items())\n",
        "print(c)"
      ]
    },
    {
      "cell_type": "code",
      "execution_count": null,
      "metadata": {
        "id": "qChGWifPtpAk",
        "outputId": "19cc1e76-6f09-4743-fc3b-3dd44ec84853"
      },
      "outputs": [
        {
          "name": "stdout",
          "output_type": "stream",
          "text": [
            "[('Россия', 2888), ('Германия', 11), ('Франция', 11), ('Индонезия', 3), ('США', 59), ('Китай', 2), ('Южная Корея', 3), ('Мексика', 1), ('Таиланд', 6), ('Великобритания', 7), ('Беларусь', 29), ('Венгрия', 1), ('Сингапур', 3), ('Малайзия', 2), ('Казахстан', 52), ('Канада', 2), ('Финляндия', 2), ('Украина', 67), ('Вьетнам', 2), ('Азербайджан', 4), ('Нидерланды', 6), ('Польша', 3), ('Швеция', 3), ('Босния и Герцеговина', 1), ('Молдова', 7), ('Узбекистан', 2), ('', 21), ('Испания', 4), ('Армения', 5), ('Швейцария', 1), ('Пакистан', 1), ('Бразилия', 1), ('Кыргызстан', 5), ('Таджикистан', 1), ('Япония', 2), ('Дания', 1), ('Израиль', 3), ('Эстония', 1), ('Тайвань', 1), ('Италия', 1), ('Ирландия', 1), ('Турция', 2), ('Латвия', 1)]\n"
          ]
        }
      ],
      "source": [
        "for i in c:\n",
        "    if '' in i:\n",
        "        del i\n",
        "print(c)"
      ]
    },
    {
      "cell_type": "markdown",
      "metadata": {
        "id": "mZRtLC-atpAk"
      },
      "source": [
        "*На данном этапе я решила **удалить Россию из списка стран**, так как число пользователей из нашей страны значительно превышает число пользователей из других стран, и график получается **непрезентабельным**. В выводах Россия обязательно будет учтена.*"
      ]
    },
    {
      "cell_type": "code",
      "execution_count": null,
      "metadata": {
        "id": "9p-T6hTwtpAk",
        "outputId": "59c2a28e-177a-439a-9166-5ded513ca3fb"
      },
      "outputs": [
        {
          "name": "stdout",
          "output_type": "stream",
          "text": [
            "[('Германия', 11), ('Франция', 11), ('Индонезия', 3), ('США', 59), ('Китай', 2), ('Южная Корея', 3), ('Мексика', 1), ('Таиланд', 6), ('Великобритания', 7), ('Беларусь', 29), ('Венгрия', 1), ('Сингапур', 3), ('Малайзия', 2), ('Казахстан', 52), ('Канада', 2), ('Финляндия', 2), ('Украина', 67), ('Вьетнам', 2), ('Азербайджан', 4), ('Нидерланды', 6), ('Польша', 3), ('Швеция', 3), ('Босния и Герцеговина', 1), ('Молдова', 7), ('Узбекистан', 2), ('', 21), ('Испания', 4), ('Армения', 5), ('Швейцария', 1), ('Пакистан', 1), ('Бразилия', 1), ('Кыргызстан', 5), ('Таджикистан', 1), ('Япония', 2), ('Дания', 1), ('Израиль', 3), ('Эстония', 1), ('Тайвань', 1), ('Италия', 1), ('Ирландия', 1), ('Турция', 2), ('Латвия', 1)]\n"
          ]
        }
      ],
      "source": [
        "del c[0]\n",
        "print(c)"
      ]
    },
    {
      "cell_type": "markdown",
      "metadata": {
        "id": "n7y_814QtpAl"
      },
      "source": [
        "summa = 0\n",
        "for i[1] in list(c):\n",
        "    summa += int(i[1])\n",
        "print(summa)"
      ]
    },
    {
      "cell_type": "markdown",
      "metadata": {
        "id": "66P4oG_ltpAl"
      },
      "source": [
        "val = list(countries.values())\n",
        "v = sum(list(countries.values()))\n",
        "print(v)"
      ]
    },
    {
      "cell_type": "code",
      "execution_count": null,
      "metadata": {
        "id": "bYCgF37stpAl"
      },
      "outputs": [],
      "source": [
        "#country = dict(zip(list(countries.keys()), [round(i/v, 4) for i in val])) "
      ]
    },
    {
      "cell_type": "markdown",
      "metadata": {
        "id": "JhznIqkmtpAl"
      },
      "source": [
        "*Была идея построить график, основываясь на процентном распределении, но решила, что это излишние действия*"
      ]
    },
    {
      "cell_type": "code",
      "execution_count": null,
      "metadata": {
        "id": "v5tXYadEtpAm",
        "outputId": "6448279d-2a88-40b8-ec36-1b2fe58ddd53"
      },
      "outputs": [
        {
          "name": "stdout",
          "output_type": "stream",
          "text": [
            "{'Япония': 2, 'Южная Корея': 3, 'Эстония': 1, 'Швеция': 3, 'Швейцария': 1, 'Франция': 11, 'Финляндия': 2, 'Украина': 67, 'Узбекистан': 2, 'Турция': 2, 'Тайвань': 1, 'Таиланд': 6, 'Таджикистан': 1, 'Сингапур': 3, 'США': 59, 'Польша': 3, 'Пакистан': 1, 'Нидерланды': 6, 'Молдова': 7, 'Мексика': 1, 'Малайзия': 2, 'Латвия': 1, 'Кыргызстан': 5, 'Китай': 2, 'Канада': 2, 'Казахстан': 52, 'Италия': 1, 'Испания': 4, 'Ирландия': 1, 'Индонезия': 3, 'Израиль': 3, 'Дания': 1, 'Германия': 11, 'Вьетнам': 2, 'Венгрия': 1, 'Великобритания': 7, 'Бразилия': 1, 'Босния и Герцеговина': 1, 'Беларусь': 29, 'Армения': 5, 'Азербайджан': 4, '': 21}\n"
          ]
        }
      ],
      "source": [
        "sorted_countries = dict(sorted(c, reverse=True))\n",
        "print(sorted_countries)"
      ]
    },
    {
      "cell_type": "markdown",
      "metadata": {
        "id": "Gm9dgwLwtpAm"
      },
      "source": [
        "*Далее я изучила дополнительные источники, чтобы подобрать наиболее наглядный, по моему мнению, график и суметь его построить.*"
      ]
    },
    {
      "cell_type": "markdown",
      "metadata": {
        "id": "aIbVAfVktpAm"
      },
      "source": [
        "~~import numpy as np\n",
        "import matplotlib.pyplot as plt\n",
        "labels = sorted_countries.keys()\n",
        "values = sorted_countries.values()\n",
        "position = np.arange(len(sorted_countries))\n",
        "fig, ax = plt.subplots()\n",
        "ax.barh(position, values)\n",
        "ax.set_yticks(position)\n",
        "ax.set_yticklabels(labels, fontsize = 15)\n",
        "fig.set_figwidth(10)\n",
        "fig.set_figheight(20)\n",
        "plt.show()~~"
      ]
    },
    {
      "cell_type": "markdown",
      "metadata": {
        "id": "lCEtYFG1tpAn"
      },
      "source": [
        "~~import matplotlib.pyplot as plt\n",
        "%matplotlib inline\n",
        "labels = sorted_countries.keys()\n",
        "values = sorted_countries.values()\n",
        "plt.title('Распределение посетителей по странам', fontsize=20);\n",
        "plt.pie(values, labels=labels, radius = 2, autopct='%1.2f%%')\n",
        "plt.legend(\n",
        "    bbox_to_anchor = (2.0, 2.0),\n",
        "    loc = 'upper left', labels = labels )\n",
        "plt.show()~~"
      ]
    },
    {
      "cell_type": "code",
      "execution_count": null,
      "metadata": {
        "id": "F1SuAuoRtpAn",
        "outputId": "970661f8-1ac2-4b50-b8f9-25f0df3d0ed1"
      },
      "outputs": [
        {
          "data": {
            "image/png": "[encoded data removed]",
            "text/plain": [
              "<Figure size 864x864 with 1 Axes>"
            ]
          },
          "metadata": {
            "needs_background": "light"
          },
          "output_type": "display_data"
        }
      ],
      "source": [
        "import numpy as np\n",
        "import matplotlib.pyplot as plt\n",
        "\n",
        "labels = sorted_countries.keys()\n",
        "values = sorted_countries.values()\n",
        "position = np.arange(len(sorted_countries))\n",
        "fig, ax = plt.subplots()\n",
        "ax.barh(position, values, color = 'darkgreen')\n",
        "ax.set_yticks(position)\n",
        "ax.set_yticklabels(labels, fontsize = 12)\n",
        "fig.set_figwidth(12)\n",
        "fig.set_figheight(12)\n",
        "plt.title(\"Распределение посетителей группы по странам (кроме России)\", fontsize=15);\n",
        "plt.show()"
      ]
    },
    {
      "cell_type": "markdown",
      "metadata": {
        "id": "MKHVxQNMtpAo"
      },
      "source": [
        "##### Вывод:\n",
        "В ходе анализа данных по странам было выявлено, что граждане **России** являются основными посетителями сообщества и составляют $ \\approx $ **90%** *(2888 человек за весь исследуемый период)*.\n",
        "\n",
        "Из остальных $ \\approx $ **10%**, которые **отражены на графике выше**, видно, что тройку стран с наибольшим числом посетителей после России представляют собой *(в порядке убывания)*:\n",
        "1. Украина\n",
        "2. США\n",
        "3. Казахстан"
      ]
    },
    {
      "cell_type": "markdown",
      "metadata": {
        "id": "mWU-ApmrtpAo"
      },
      "source": [
        "### 4. Анализ обратной связи"
      ]
    },
    {
      "cell_type": "code",
      "execution_count": null,
      "metadata": {
        "id": "987noC2-tpAo",
        "outputId": "d402f169-8f14-403c-d1eb-5af14bd2f32e"
      },
      "outputs": [
        {
          "name": "stdout",
          "output_type": "stream",
          "text": [
            "{'Обсуждения': 290, 'Фотоальбомы': 284, 'Видеозаписи': 110}\n"
          ]
        }
      ],
      "source": [
        "sections = dict()\n",
        "with open('vk_group.csv', encoding='utf8') as file:\n",
        "    stat = csv.reader(file)\n",
        "    for line in stat:\n",
        "        if line[1] == 'sections':\n",
        "            if line[2] not in sections:\n",
        "                sections[line[2]] = int(line[4])\n",
        "            else:\n",
        "                sections[line[2]] += int(line[4])\n",
        "print(sections)"
      ]
    },
    {
      "cell_type": "code",
      "execution_count": null,
      "metadata": {
        "id": "XpeOQMKptpAp",
        "outputId": "3ad3e6fc-dd1c-4c1c-ed53-ba6471528602"
      },
      "outputs": [
        {
          "name": "stdout",
          "output_type": "stream",
          "text": [
            "{'Нравится': 88, 'Рассказали друзьям': 3, 'Упоминания': 1, 'Комментарии': 5}\n"
          ]
        }
      ],
      "source": [
        "feedback = dict()\n",
        "with open('vk_group.csv', encoding='utf8') as file:\n",
        "    stat = csv.reader(file)\n",
        "    for line in stat:\n",
        "        if line[1] == 'feedback':\n",
        "            if line[2] not in feedback:\n",
        "                feedback[line[2]] = int(line[4])\n",
        "            else:\n",
        "                feedback[line[2]] += int(line[4])\n",
        "print(feedback)"
      ]
    },
    {
      "cell_type": "code",
      "execution_count": null,
      "metadata": {
        "id": "mi6gtdtutpAq",
        "outputId": "666a7228-5143-486a-a682-82f2f1789174"
      },
      "outputs": [
        {
          "data": {
            "image/png": "[encoded data removed]",
            "text/plain": [
              "<Figure size 432x288 with 1 Axes>"
            ]
          },
          "metadata": {},
          "output_type": "display_data"
        }
      ],
      "source": [
        "import matplotlib.pyplot as plt\n",
        "%matplotlib inline\n",
        "\n",
        "labels = feedback.keys()\n",
        "values = feedback.values()\n",
        "plt.title('Оценка обратной связи', fontsize=18);\n",
        "plt.pie(values, labels = values, radius = 1.2, autopct='%1.1f%%', pctdistance = 0.7,)\n",
        "plt.legend(bbox_to_anchor = (1.7, 1.0), labels = labels )\n",
        "\n",
        "plt.show()"
      ]
    },
    {
      "cell_type": "markdown",
      "metadata": {
        "id": "4aR7tM4xtpAq"
      },
      "source": [
        "#### Вывод:\n",
        "Основным типом активности посетителей группы является нажатие кнопки \"Нравится\", совсем немногие вдобавок делятся новостями сообщества и комментируют их. В общем и целом над активностью аудитории *необходимо работать*, так как в совокупности единиц обратной связи насчитывается менее 100 за весь период статистики."
      ]
    },
    {
      "cell_type": "markdown",
      "metadata": {
        "id": "bylQyzEDtpAr"
      },
      "source": [
        "### 5. Подходит ли группа для продвижения нового товара среди активных пользователей из России моложе 30 лет?"
      ]
    },
    {
      "cell_type": "code",
      "execution_count": null,
      "metadata": {
        "id": "mqLx_EMatpAr",
        "outputId": "61ff89c7-4ff4-48e8-a2eb-35cde5d63b8c"
      },
      "outputs": [
        {
          "data": {
            "image/png": "[encoded data removed]",
            "text/plain": [
              "<Figure size 432x288 with 1 Axes>"
            ]
          },
          "metadata": {},
          "output_type": "display_data"
        }
      ],
      "source": [
        "import matplotlib.pyplot as plt\n",
        "%matplotlib inline\n",
        "\n",
        "labels = age.keys()\n",
        "values = age.values()\n",
        "plt.title('Возраст пользователей', fontsize=16);\n",
        "plt.pie(values, radius = 1.2, autopct='%1.1f%%', pctdistance = 0.8)\n",
        "plt.legend(bbox_to_anchor = (1.5, 1.0), labels = labels )\n",
        "\n",
        "plt.show()"
      ]
    },
    {
      "cell_type": "markdown",
      "metadata": {
        "id": "g7i-dymxtpAr"
      },
      "source": [
        "Для более наглядного представления возрастных категорий я решила вывести данные в виде круговой диаграммы. Так, мы можем заключить, что исходя из *критерия \"пользователи моложе 30 лет\"* группа определённо подходит для продвижения нового товара, так как они составляют $ \\approx $ 55% аудитории. То же самое можно заключить и по *критерию \"из России\"*, так как российские граждане составляют $ \\approx $ 90% всех пользователей. Что касается активности аудитории, этот вопрос **спорный**, так как:\n",
        "1. Мы не можем сказать точно, насколько активны посетители группы, если под активностью понимается понятие \"активный образ жизни\"\n",
        "2. Если под активностью понимается участие пользователей в жизни группы, то они не отличаются большой инициативностью, как показал проведённый анализ; такой исход можно объяснить, например, специфичностью рекламируемого товара, и получается, что активность не является обязательным элементом существования группы. Если исход объяснить ничем нельзя, то *по данному параметру* сообщество **не подходит** для продвижения нового товара среди обозначенной группы пользователей, так за достаточно длительный период с 2016 по начало 2020 года пользователи не проявили активности, достаточной для гипотетического продвижения нового товара."
      ]
    }
  ],
  "metadata": {
    "kernelspec": {
      "display_name": "Python 3",
      "language": "python",
      "name": "python3"
    },
    "language_info": {
      "codemirror_mode": {
        "name": "ipython",
        "version": 3
      },
      "file_extension": ".py",
      "mimetype": "text/x-python",
      "name": "python",
      "nbconvert_exporter": "python",
      "pygments_lexer": "ipython3",
      "version": "3.7.4"
    },
    "colab": {
      "name": "analysis1.ipynb",
      "provenance": [],
      "collapsed_sections": [
        "KhRh3jF9tpAV",
        "dC-YJtPstpAZ",
        "O130sfdotpAa",
        "wwaMqdZ0tpAg",
        "ZNJG4wWVtpAk",
        "4aR7tM4xtpAq"
      ]
    }
  },
  "nbformat": 4,
  "nbformat_minor": 0
}